{
 "cells": [
  {
   "cell_type": "markdown",
   "id": "9625a4ec-506b-4841-955e-fdb191ea1918",
   "metadata": {},
   "source": [
    "# Класификација на АДХД(?) преку ЕЕГ сигнали (предпроцесирање)"
   ]
  },
  {
   "cell_type": "code",
   "execution_count": 182,
   "id": "4203d4a1-ce19-4b27-af16-5845f5282f64",
   "metadata": {},
   "outputs": [],
   "source": [
    "import numpy as np\n",
    "import matplotlib.pyplot as plt\n",
    "import pandas as pd\n",
    "import mne\n",
    "import os\n",
    "import seaborn as sns\n",
    "from glob import glob\n",
    "import warnings\n",
    "from autopreprocess_pipeline import *\n",
    "from autopreprocessing import dataset as ds\n",
    "import shutil \n",
    "from tqdm import tqdm\n",
    "\n",
    "from tensorflow.python.keras.models import Sequential\n",
    "from tensorflow.python.keras.layers import Conv1D, MaxPool1D, Dense, Flatten, Dropout"
   ]
  },
  {
   "cell_type": "markdown",
   "id": "32f43b4d-c3aa-4d1c-b186-47d88a64473b",
   "metadata": {},
   "source": [
    "### Вчитување, филтрирање на пациенти од интерес и отстранување артефакти (?)"
   ]
  },
  {
   "cell_type": "code",
   "execution_count": 2,
   "id": "264d4b54-e8d2-46c9-85ec-1f65a8652564",
   "metadata": {},
   "outputs": [],
   "source": [
    "main_path = '/home/lukar/projects/eeg/data'"
   ]
  },
  {
   "cell_type": "code",
   "execution_count": 3,
   "id": "79a17958-2b4f-4584-9ba5-af5daf276b72",
   "metadata": {},
   "outputs": [],
   "source": [
    "df = pd.read_csv(os.path.join(main_path, 'TDBRAIN_ID_and_status.csv')) # convert the .xlsx file into a .csv file beforehand\n",
    "df_subset = df[['participants_ID', 'formal_status']] # only participants' ID and their status are needed from all columns\n",
    "df_filtered = df_subset[df_subset['formal_status'].isin(['HEALTHY', 'ADHD'])] # out of the 5+ statuses (classes), only healthy and adhd ones are needed\n",
    "\n",
    "filtered_file_path = '/home/lukar/projects/eeg/data/dataTDBRAIN_ID_and_status.csv'\n",
    "df_filtered.to_csv(filtered_file_path, index=False) # save the .csv file"
   ]
  },
  {
   "cell_type": "code",
   "execution_count": 4,
   "id": "34487c5d-cfa1-4636-afc4-aec35602afd8",
   "metadata": {
    "scrolled": true
   },
   "outputs": [
    {
     "data": {
      "text/html": [
       "<div>\n",
       "<style scoped>\n",
       "    .dataframe tbody tr th:only-of-type {\n",
       "        vertical-align: middle;\n",
       "    }\n",
       "\n",
       "    .dataframe tbody tr th {\n",
       "        vertical-align: top;\n",
       "    }\n",
       "\n",
       "    .dataframe thead th {\n",
       "        text-align: right;\n",
       "    }\n",
       "</style>\n",
       "<table border=\"1\" class=\"dataframe\">\n",
       "  <thead>\n",
       "    <tr style=\"text-align: right;\">\n",
       "      <th></th>\n",
       "      <th>participants_ID</th>\n",
       "      <th>formal_status</th>\n",
       "    </tr>\n",
       "  </thead>\n",
       "  <tbody>\n",
       "    <tr>\n",
       "      <th>0</th>\n",
       "      <td>sub-87974617</td>\n",
       "      <td>HEALTHY</td>\n",
       "    </tr>\n",
       "    <tr>\n",
       "      <th>1</th>\n",
       "      <td>sub-87974621</td>\n",
       "      <td>HEALTHY</td>\n",
       "    </tr>\n",
       "    <tr>\n",
       "      <th>2</th>\n",
       "      <td>sub-87974665</td>\n",
       "      <td>HEALTHY</td>\n",
       "    </tr>\n",
       "    <tr>\n",
       "      <th>3</th>\n",
       "      <td>sub-87974709</td>\n",
       "      <td>HEALTHY</td>\n",
       "    </tr>\n",
       "    <tr>\n",
       "      <th>4</th>\n",
       "      <td>sub-87974841</td>\n",
       "      <td>HEALTHY</td>\n",
       "    </tr>\n",
       "  </tbody>\n",
       "</table>\n",
       "</div>"
      ],
      "text/plain": [
       "  participants_ID formal_status\n",
       "0    sub-87974617       HEALTHY\n",
       "1    sub-87974621       HEALTHY\n",
       "2    sub-87974665       HEALTHY\n",
       "3    sub-87974709       HEALTHY\n",
       "4    sub-87974841       HEALTHY"
      ]
     },
     "execution_count": 4,
     "metadata": {},
     "output_type": "execute_result"
    }
   ],
   "source": [
    "df_filtered\n",
    "df_filtered.head()"
   ]
  },
  {
   "cell_type": "code",
   "execution_count": null,
   "id": "aff00949-c731-4d9e-803b-dcce8043bcd6",
   "metadata": {},
   "outputs": [],
   "source": [
    "text = 'Fp1,Fp2,F7,F3,Fz,F4,F8,FC3,FCz,FC4,T7,C3,Cz,C4,T8,CP3,CPz,CP4,P7,P3,Pz,P4,P8,O1,Oz,O2,VPVA,VNVB,HPHL,HNHR,Erbs,OrbOcc,Mass' # electrode names copied from one .csv eeg recordings file\n",
    "channel_names = text.split(',')  # split electrode names with commas\n",
    "channel_names = [f\"{name}\" for name in channel_names] # create a list of strings \n",
    "print(channel_names)"
   ]
  },
  {
   "cell_type": "code",
   "execution_count": null,
   "id": "0437eee6-f0d4-4f2c-add9-3fced3b1d50d",
   "metadata": {},
   "outputs": [],
   "source": [
    "sourcepath = folders_path\n",
    "preprocpath = '/home/lukar/projects/eeg/data/processed_subjects'"
   ]
  },
  {
   "cell_type": "code",
   "execution_count": null,
   "id": "7d8ea81a-a8ed-491d-8061-25fa5ca135bc",
   "metadata": {},
   "outputs": [],
   "source": [
    "varargsin = {\n",
    "    'sourcepath' : folders_path,\n",
    "    'preprocpath' : preprocpath\n",
    "}"
   ]
  },
  {
   "cell_type": "code",
   "execution_count": null,
   "id": "3002cada-7865-42f2-8ad0-048ee2ced2dc",
   "metadata": {},
   "outputs": [],
   "source": [
    "autopreprocess_standard(varargsin=varargsin)"
   ]
  },
  {
   "cell_type": "markdown",
   "id": "536e4304-afe0-4932-b557-6a38bfd98378",
   "metadata": {},
   "source": [
    "### Поделба на пациенти и сегментирање на сигналите "
   ]
  },
  {
   "cell_type": "code",
   "execution_count": 5,
   "id": "2f42e9fb-be48-40ba-a9fa-6780559c8935",
   "metadata": {},
   "outputs": [],
   "source": [
    "def chop_string_from_end(string, char, flip):\n",
    "    \n",
    "    index = string.rfind(char)\n",
    "    if not flip:\n",
    "        if index != -1:\n",
    "            chopped_string = string[index:]\n",
    "        else:\n",
    "            chopped_string = string\n",
    "\n",
    "        return chopped_string\n",
    "    else:\n",
    "        if index != -1:\n",
    "            chopped_string = string[:index]\n",
    "        else:\n",
    "            chopped_string = string\n",
    "\n",
    "        return chopped_string\n",
    "\n"
   ]
  },
  {
   "cell_type": "code",
   "execution_count": 6,
   "id": "e1ba65b5-84ce-4e4f-8f7c-6e7d0f74f926",
   "metadata": {},
   "outputs": [],
   "source": [
    "def segment_csv(path_to_file, path_to_dir, window_length=5000, stride=500):\n",
    "\n",
    "    df = pd.read_csv(path_to_file)\n",
    "    \n",
    "    df = df.drop(columns=['artifacts', 'VEOG', 'HEOG', 'Erbs', 'OrbOcc', 'Mass'], axis=1)\n",
    "    i=0 \n",
    "    for i in range(110):\n",
    "        #while (df.iloc[i*STRIDE + WINDOW_LENGTH] is not None):\n",
    "        sub_df = df.iloc[i*stride : i*stride + window_length]\n",
    "        i+=1\n",
    "        subject_name = chop_string_from_end(path_to_file,\"/\", flip=0)\n",
    "        clean_name = chop_string_from_end(subject_name,\"eeg_csv\",flip=1)\n",
    "\n",
    "        #print(clean_name)\n",
    "        seg_path = path_to_dir + \"/\" + clean_name + \"_seg_\" + str(i) + \".csv\"\n",
    "\n",
    "        # print(f\"saving segment {i} of the patient to {seg_path}, window that captures row {i*stride} to {i*stride + window_length}\")\n",
    "        \n",
    "        \n",
    "        sub_df.to_csv(seg_path)       \n",
    "    "
   ]
  },
  {
   "cell_type": "code",
   "execution_count": null,
   "id": "63957886-f7ce-45d6-9024-1742d1713377",
   "metadata": {},
   "outputs": [],
   "source": [
    "path_to_dir = \"/home/lukar/projects/eeg/data/processed_subjects\""
   ]
  },
  {
   "cell_type": "code",
   "execution_count": 7,
   "id": "c8375180-2340-4351-890f-dfa2dbbfc95d",
   "metadata": {},
   "outputs": [],
   "source": [
    "\n",
    "def find_csv_files(directory):\n",
    "    \"\"\"\n",
    "    Recursively searches for .csv files in the given directory and its subdirectories.\n",
    "    Returns a list of paths to the found .csv files.\n",
    "    \"\"\"\n",
    "    csv_files = []\n",
    "\n",
    "    # Traverse through all the files and directories in the given directory\n",
    "    for root, dirs, files in os.walk(directory):\n",
    "        for file in files:\n",
    "            # Check if the file has a .csv extension\n",
    "            if file.endswith(\".csv\"):\n",
    "                # If found, append the path to the list of csv_files\n",
    "                csv_files.append(os.path.join(root, file))\n",
    "                \n",
    "    return csv_files            \n"
   ]
  },
  {
   "cell_type": "code",
   "execution_count": 10,
   "id": "637c436d-109d-45c9-bf8f-8100eee724c2",
   "metadata": {},
   "outputs": [],
   "source": [
    "df_dict = df_filtered.set_index('participants_ID')['formal_status'].to_dict()"
   ]
  },
  {
   "cell_type": "code",
   "execution_count": 11,
   "id": "27f94ff2-0572-4063-8dcd-dcca9e0aa841",
   "metadata": {},
   "outputs": [],
   "source": [
    "source_dir = '/home/lukar/projects/eeg/data/processed_subjects'\n",
    "target_dir_adhd = '/home/lukar/projects/eeg/data/adhd'\n",
    "target_dir_healthy = '/home/lukar/projects/eeg/data/healthy'"
   ]
  },
  {
   "cell_type": "code",
   "execution_count": 12,
   "id": "444c4b81-de40-47c4-85a6-0c6cbe369f26",
   "metadata": {},
   "outputs": [],
   "source": [
    "\n",
    "for subject in os.listdir(source_dir):\n",
    "   \n",
    "    # index = file.rfind(\"/\")\n",
    "    # subject_name = file[index+1:]\n",
    "    # subject_index = subject_name.find(\"_\")\n",
    "    # subject_name = subject_name[:subject_index]\n",
    "   \n",
    "\n",
    "    if df_dict[subject] == \"HEALTHY\":\n",
    "        shutil.move(os.path.join(source_dir, subject), target_dir_healthy)\n",
    "    elif df_dict[subject] == \"ADHD\":\n",
    "        shutil.move(os.path.join(source_dir, subject), target_dir_adhd)   \n",
    "                          \n"
   ]
  },
  {
   "cell_type": "code",
   "execution_count": 13,
   "id": "97e4698a-7f50-432a-a64a-c2b0f139efb0",
   "metadata": {},
   "outputs": [],
   "source": [
    "adhd_dir = os.listdir(target_dir_adhd)\n",
    "healthy_dir = os.listdir(target_dir_healthy)"
   ]
  },
  {
   "cell_type": "code",
   "execution_count": 14,
   "id": "eb3fdd9a-1255-4643-b2e5-314b0cc3e26c",
   "metadata": {},
   "outputs": [],
   "source": [
    "adhd_dir = [os.path.join(target_dir_adhd,subject) for subject in adhd_dir]\n",
    "healthy_dir = [os.path.join(target_dir_healthy,subject) for subject in healthy_dir]"
   ]
  },
  {
   "cell_type": "code",
   "execution_count": 15,
   "id": "f85cf0ae-e40b-43ba-982f-a6ef0fa2abce",
   "metadata": {},
   "outputs": [],
   "source": [
    "training_path = '/home/lukar/projects/eeg/data/training'\n",
    "validation_path = '/home/lukar/projects/eeg/data/validation'\n",
    "testing_path = '/home/lukar/projects/eeg/data/testing'"
   ]
  },
  {
   "cell_type": "code",
   "execution_count": 16,
   "id": "56e2408d-0dc3-4b20-a731-de0c3c26b79b",
   "metadata": {},
   "outputs": [],
   "source": [
    "for i in range (len(healthy_dir)): #healthy_dir is the smaller set, so we will balance by using its length\n",
    "    if i<31: # alternate between healthy and adhd subject and add 31 samples of each into training data \n",
    "        shutil.move(healthy_dir[i], training_path)\n",
    "        shutil.move(adhd_dir[i], training_path)\n",
    "    elif i >= 31 and i < 39:  # alternate between healthy and adhd subject and add 8 samples of each into validation data \n",
    "        shutil.move(healthy_dir[i], validation_path)\n",
    "        shutil.move(adhd_dir[i], validation_path)\n",
    "    elif i>=39 and i < 47: # alternate between healthy and adhd subject and add 8 samples of each into testing data\n",
    "        shutil.move(healthy_dir[i], testing_path)\n",
    "        shutil.move(adhd_dir[i], testing_path)"
   ]
  },
  {
   "cell_type": "code",
   "execution_count": 17,
   "id": "8bc04501-72ff-4471-ac7a-42a783e34855",
   "metadata": {},
   "outputs": [],
   "source": [
    "training_csv_files = find_csv_files(training_path)\n",
    "validation_csv_files = find_csv_files(validation_path)\n",
    "testing_csv_files = find_csv_files(testing_path)"
   ]
  },
  {
   "cell_type": "code",
   "execution_count": 18,
   "id": "40ac9a5c-0d71-4e57-b7b3-a54842ca0133",
   "metadata": {},
   "outputs": [],
   "source": [
    "training_segmented_path =   \"/home/lukar/projects/eeg/data/training_segmented\"\n",
    "validation_segmented_path =  \"/home/lukar/projects/eeg/data/validation_segmented\"\n",
    "testing_segmented_path = \"/home/lukar/projects/eeg/data/testing_segmented\""
   ]
  },
  {
   "cell_type": "code",
   "execution_count": 20,
   "id": "3a9d14c2-e453-4409-80a2-5048cb9e6226",
   "metadata": {},
   "outputs": [
    {
     "name": "stderr",
     "output_type": "stream",
     "text": [
      "100%|█████████████████████████████████████████████████████████████████████████████████| 124/124 [17:46<00:00,  8.60s/it]\n"
     ]
    }
   ],
   "source": [
    "for training_file in tqdm(training_csv_files):\n",
    "    segment_csv(path_to_file = training_file, path_to_dir = training_segmented_path)"
   ]
  },
  {
   "cell_type": "code",
   "execution_count": 21,
   "id": "2d5d7e2c-d140-4865-a965-c458c2ea7139",
   "metadata": {},
   "outputs": [
    {
     "name": "stderr",
     "output_type": "stream",
     "text": [
      "100%|███████████████████████████████████████████████████████████████████████████████████| 36/36 [05:06<00:00,  8.52s/it]\n"
     ]
    }
   ],
   "source": [
    "for validation_file in tqdm(validation_csv_files):\n",
    "    segment_csv(path_to_file = validation_file, path_to_dir = validation_segmented_path)\n",
    "   "
   ]
  },
  {
   "cell_type": "code",
   "execution_count": 22,
   "id": "cb0cf8f4-60b6-4701-b7f4-1065ee6a6fcf",
   "metadata": {},
   "outputs": [
    {
     "name": "stderr",
     "output_type": "stream",
     "text": [
      "100%|███████████████████████████████████████████████████████████████████████████████████| 34/34 [04:48<00:00,  8.48s/it]\n"
     ]
    }
   ],
   "source": [
    "for testing_file in tqdm(testing_csv_files):\n",
    "    segment_csv(path_to_file = testing_file, path_to_dir = testing_segmented_path) "
   ]
  },
  {
   "cell_type": "markdown",
   "id": "a11985b6-7ba6-42e2-aaa1-f2f51f5e4c53",
   "metadata": {},
   "source": [
    "### Извлекување на карактеристики и поделба во множества за тренирање, тестирање и валидација"
   ]
  },
  {
   "cell_type": "code",
   "execution_count": 140,
   "id": "c3a81fef-ffb2-4ead-b5cc-bfe59fc9276c",
   "metadata": {},
   "outputs": [],
   "source": [
    "training_filepaths = [os.path.join(training_segmented_path,file) for file in os.listdir(training_segmented_path)]\n",
    "validation_filepaths = [os.path.join(validation_segmented_path,file) for file in os.listdir(validation_segmented_path)]\n",
    "testing_filepaths = [os.path.join(testing_segmented_path,file) for file in os.listdir(testing_segmented_path)]\n",
    "\n",
    "X_train = []\n",
    "X_val = []\n",
    "X_test = [] \n",
    "\n",
    "y_train = []\n",
    "y_val = []\n",
    "y_test = [] "
   ]
  },
  {
   "cell_type": "code",
   "execution_count": 141,
   "id": "f3a36414-a66e-411f-97ed-5d87a5fbaff2",
   "metadata": {},
   "outputs": [],
   "source": [
    "import numpy as np\n",
    "import pywt\n",
    "from scipy.spatial.distance import pdist\n",
    "from scipy.stats import entropy\n",
    "from sklearn.neighbors import NearestNeighbors\n",
    "\n",
    "def wavelet_entropy(segment, wavelet='db4', level=4):\n",
    "    coeffs = pywt.wavedec(segment, wavelet, level=level)\n",
    "    entropy_list = []\n",
    "    for coeff in coeffs:\n",
    "        coeff = np.abs(coeff)\n",
    "        norm_coeff = coeff / np.sum(coeff)\n",
    "        entropy_list.append(entropy(norm_coeff))\n",
    "    return np.mean(entropy_list)\n",
    "\n",
    "\n",
    "import numpy as np\n",
    "import pandas as pd\n",
    "from scipy.stats import kurtosis, skew, entropy\n",
    "from scipy.signal import welch\n",
    "from scipy.integrate import simpson\n",
    "from sklearn.preprocessing import StandardScaler\n",
    "from numpy import log2, mean, sqrt\n",
    "from math import log10\n",
    "\n",
    "def compute_bandpower(segment, fs, band):\n",
    "    freqs, psd = welch(segment, fs)\n",
    "    band_freqs = (freqs >= band[0]) & (freqs <= band[1])\n",
    "    band_power = simpson(y=psd[band_freqs], x=freqs[band_freqs])\n",
    "    return band_power, psd, freqs\n",
    "\n",
    "def hjorth_params(segment):\n",
    "    # Hjorth Activity\n",
    "    activity = np.var(segment)\n",
    "    \n",
    "    # Hjorth Mobility\n",
    "    derivative = np.diff(segment)\n",
    "    mobility = np.std(derivative) / np.std(segment)\n",
    "    \n",
    "    # Hjorth Complexity\n",
    "    second_derivative = np.diff(derivative)\n",
    "    complexity = (np.std(second_derivative) / np.std(derivative)) / mobility\n",
    "    \n",
    "    return activity, mobility, complexity\n",
    "\n",
    "def spectral_entropy(psd):\n",
    "    psd_norm = psd / np.sum(psd)\n",
    "    return entropy(psd_norm)\n",
    "\n",
    "def shannon_entropy(segment):\n",
    "    prob_dist, _ = np.histogram(segment, bins=256, density=True)\n",
    "    prob_dist = prob_dist[prob_dist > 0]\n",
    "    return -np.sum(prob_dist * np.log2(prob_dist))\n",
    "\n",
    "def higuchi_fd(segment, k_max):\n",
    "    L = []\n",
    "    x = np.asarray(segment)\n",
    "    N = len(x)\n",
    "\n",
    "    for k in range(1, k_max):\n",
    "        Lk = 0\n",
    "        for m in range(k):\n",
    "            Lmk = 0\n",
    "            for i in range(1, int(np.floor((N - m) / k))):\n",
    "                Lmk += np.abs(x[m + i * k] - x[m + (i - 1) * k])\n",
    "            Lmk = Lmk * (N - 1) / (int(np.floor((N - m) / k)) * k)\n",
    "            Lk += Lmk\n",
    "        L.append(np.log(Lk / k))\n",
    "\n",
    "    return np.polyfit(np.log(range(1, k_max)), L, 1)[0]\n",
    "\n",
    "    \n",
    "def katz_fd(segment):\n",
    "    L = np.sum(np.sqrt(np.ediff1d(segment) ** 2 + 1))\n",
    "    d = np.max(np.abs(segment - segment[0]))\n",
    "    N = len(segment)\n",
    "    return log10(L) / (log10(d) + log10(N))\n",
    "\n",
    "def petrosian_fd(segment):\n",
    "    n = len(segment)\n",
    "    diff = np.diff(segment)\n",
    "    N_delta = np.sum(diff[1:] * diff[:-1] < 0)\n",
    "    return log10(n) / (log10(n) + log10(n / (n + 0.4 * N_delta)))\n"
   ]
  },
  {
   "cell_type": "code",
   "execution_count": 142,
   "id": "35aa7c9c-a350-49d7-80f4-e26dfe74fc0d",
   "metadata": {},
   "outputs": [],
   "source": [
    "\n",
    "def extract_features(df, fs,eo):\n",
    "    feature_list = []\n",
    "\n",
    "    for column in df.columns:\n",
    "        segment = df[column].values\n",
    "        # Compute time-domain features\n",
    "        mean_val = np.mean(segment)\n",
    "        std_val = np.std(segment)\n",
    "        rms_val = np.sqrt(np.mean(segment**2))\n",
    "        kurtosis_val = kurtosis(segment)\n",
    "        skewness_val = skew(segment)\n",
    "\n",
    "        # Compute Hjorth parameters\n",
    "        activity, mobility, complexity = hjorth_params(segment)\n",
    "\n",
    "        # Compute Shannon's entropy\n",
    "        shannon_entropy_val = shannon_entropy(segment)\n",
    "\n",
    "        # Compute band powers and PSD entropy\n",
    "        delta_power, _, _ = compute_bandpower(segment, fs, [0.5, 4])\n",
    "        theta_power, psd_t, freqs = compute_bandpower(segment, fs, [4, 8])\n",
    "        alpha_power, _, _ = compute_bandpower(segment, fs, [8, 13])\n",
    "        beta_power, psd_b, _ = compute_bandpower(segment, fs, [13, 30])\n",
    "        gamma_power, _, _ = compute_bandpower(segment, fs, [30, 100])\n",
    "\n",
    "        \n",
    "        \n",
    "        # Compute spectral entropy for theta and beta bands\n",
    "        spectral_entropy_theta = spectral_entropy(psd_t)\n",
    "        spectral_entropy_beta = spectral_entropy(psd_b)\n",
    "\n",
    "        # Compute wavelet entropy\n",
    "        wavelet_entropy_val = wavelet_entropy(segment)\n",
    "        \n",
    "        # Compute theta to beta power ratio\n",
    "        theta_beta_ratio = theta_power/beta_power\n",
    "\n",
    "        # Combine all features\n",
    "        features = [\n",
    "            mean_val, std_val, rms_val, kurtosis_val, skewness_val,\n",
    "            activity, mobility, complexity, shannon_entropy_val, spectral_entropy_theta, spectral_entropy_beta,\n",
    "            delta_power, theta_power, alpha_power, beta_power, gamma_power, wavelet_entropy_val, theta_beta_ratio\n",
    "        ]\n",
    "        feature_list.append(features)\n",
    "\n",
    "    feature_array = np.array(feature_list)\n",
    "\n",
    "    # Normalize the features\n",
    "    scaler = StandardScaler()\n",
    "    normalized_features = scaler.fit_transform(feature_array)\n",
    "\n",
    "    # Flatten the array to a single vector\n",
    "    normalized_features = normalized_features.flatten()\n",
    "\n",
    "    # Append the additional feature (eo)\n",
    "    final_feature_vector = np.append(normalized_features, eo)\n",
    "   \n",
    "    return final_feature_vector\n",
    "\n"
   ]
  },
  {
   "cell_type": "code",
   "execution_count": 143,
   "id": "8d67511c-6fcf-4330-a035-e0c2f7ae5be2",
   "metadata": {},
   "outputs": [
    {
     "name": "stderr",
     "output_type": "stream",
     "text": [
      "100%|█████████████████████████████████████████████████████████████████████████████| 13640/13640 [15:17<00:00, 14.86it/s]"
     ]
    },
    {
     "name": "stdout",
     "output_type": "stream",
     "text": [
      "Training data loaded! Training set: 13640, labels: 13640\n"
     ]
    },
    {
     "name": "stderr",
     "output_type": "stream",
     "text": [
      "\n"
     ]
    }
   ],
   "source": [
    "for csv in tqdm(training_filepaths): \n",
    "\n",
    "    \n",
    "    index = csv.rfind(\"/\")\n",
    "    subject_name = csv[index+1:]\n",
    "    subject_index = subject_name.find(\"_\")\n",
    "    subject_name = subject_name[:subject_index]\n",
    "   \n",
    "\n",
    "    if df_dict[subject_name] == \"HEALTHY\":\n",
    "        y_train.append(1)\n",
    "    elif df_dict[subject_name] == \"ADHD\":\n",
    "         y_train.append(0)\n",
    "\n",
    "    \n",
    "    segment = pd.read_csv(csv)\n",
    "    segment = segment.drop(columns = ['Unnamed: 0.1', 'Unnamed: 0'])\n",
    "    \n",
    "    eyes_open_status = 1 if \"restEO\" in csv else 0     \n",
    "    feature_file = extract_features(df = segment,fs = 500, eo = eyes_open_status)\n",
    "    \n",
    "\n",
    "    \n",
    "    X_train.append(feature_file)\n",
    "\n",
    "print (f\"Training data loaded! Training set: {len(X_train)}, labels: {len(y_train)}\")"
   ]
  },
  {
   "cell_type": "code",
   "execution_count": 144,
   "id": "e486558e-2c69-4b23-a6ef-0335121b3cab",
   "metadata": {},
   "outputs": [
    {
     "name": "stderr",
     "output_type": "stream",
     "text": [
      "100%|███████████████████████████████████████████████████████████████████████████████| 3960/3960 [04:23<00:00, 15.01it/s]"
     ]
    },
    {
     "name": "stdout",
     "output_type": "stream",
     "text": [
      "Validation data loaded! Validation set: 3960, labels: 3960\n"
     ]
    },
    {
     "name": "stderr",
     "output_type": "stream",
     "text": [
      "\n"
     ]
    }
   ],
   "source": [
    "for csv in tqdm(validation_filepaths): \n",
    "    \n",
    "    index = csv.rfind(\"/\")\n",
    "    subject_name = csv[index+1:]\n",
    "    subject_index = subject_name.find(\"_\")\n",
    "    subject_name = subject_name[:subject_index]\n",
    "   \n",
    "\n",
    "    if df_dict[subject_name] == \"HEALTHY\":\n",
    "        y_val.append(1)\n",
    "    elif df_dict[subject_name] == \"ADHD\":\n",
    "         y_val.append(0)\n",
    "\n",
    "    \n",
    "    segment = pd.read_csv(csv)\n",
    "    segment = segment.drop(columns = ['Unnamed: 0.1', 'Unnamed: 0'])\n",
    "    \n",
    "    eyes_open_status = 1 if \"restEO\" in csv else 0\n",
    "    feature_file = extract_features(df = segment,fs = 500,eo = eyes_open_status)\n",
    "        \n",
    "    \n",
    "        \n",
    "    X_val.append(feature_file)\n",
    "\n",
    "print (f\"Validation data loaded! Validation set: {len(X_val)}, labels: {len(y_val)}\")"
   ]
  },
  {
   "cell_type": "code",
   "execution_count": 145,
   "id": "1bba29fc-43e5-4a6a-b66b-5b69254ff523",
   "metadata": {},
   "outputs": [
    {
     "name": "stderr",
     "output_type": "stream",
     "text": [
      "100%|███████████████████████████████████████████████████████████████████████████████| 3740/3740 [04:10<00:00, 14.90it/s]"
     ]
    },
    {
     "name": "stdout",
     "output_type": "stream",
     "text": [
      "Testing data loaded! Testing set: 3740, labels: 3740\n"
     ]
    },
    {
     "name": "stderr",
     "output_type": "stream",
     "text": [
      "\n"
     ]
    }
   ],
   "source": [
    "for csv in tqdm(testing_filepaths): \n",
    "    \n",
    "    index = csv.rfind(\"/\")\n",
    "    subject_name = csv[index+1:]\n",
    "    subject_index = subject_name.find(\"_\")\n",
    "    subject_name = subject_name[:subject_index]\n",
    "   \n",
    "\n",
    "    if df_dict[subject_name] == \"HEALTHY\":\n",
    "        y_test.append(1)\n",
    "    elif df_dict[subject_name] == \"ADHD\":\n",
    "         y_test.append(0)\n",
    "\n",
    "    \n",
    "    segment = pd.read_csv(csv)\n",
    "    segment = segment.drop(columns = ['Unnamed: 0.1', 'Unnamed: 0'])\n",
    "    eyes_open_status = 1 if \"restEO\" in csv else 0\n",
    "    feature_file = extract_features(df = segment, fs = 500, eo = eyes_open_status)\n",
    "  \n",
    "    X_test.append(feature_file)\n",
    "\n",
    "print (f\"Testing data loaded! Testing set: {len(X_test)}, labels: {len(y_test)}\")"
   ]
  },
  {
   "cell_type": "code",
   "execution_count": null,
   "id": "0d0f46cf-e49c-455f-a95e-af75d8afc0f1",
   "metadata": {},
   "outputs": [],
   "source": []
  },
  {
   "cell_type": "code",
   "execution_count": null,
   "id": "d23fd747-9066-42c5-a7b6-c4ece9331d18",
   "metadata": {},
   "outputs": [],
   "source": []
  },
  {
   "cell_type": "code",
   "execution_count": null,
   "id": "9da10d9b-e859-4298-ad06-fcbb5e87bd51",
   "metadata": {},
   "outputs": [],
   "source": []
  },
  {
   "cell_type": "code",
   "execution_count": null,
   "id": "5c23fe34-b2ff-420c-a251-d9aa918fa0d6",
   "metadata": {},
   "outputs": [],
   "source": []
  },
  {
   "cell_type": "code",
   "execution_count": 153,
   "id": "56cee318-a34f-4266-bee2-62a9cfa5e099",
   "metadata": {},
   "outputs": [],
   "source": [
    "np.save(\"X_train.npy\", X_train)\n",
    "np.save(\"X_test.npy\", X_test)\n",
    "np.save(\"X_val.npy\", X_val)\n",
    "np.save(\"y_train.npy\", y_train)\n",
    "np.save(\"y_test.npy\", y_test)\n",
    "np.save(\"y_val.npy\", y_val)"
   ]
  },
  {
   "cell_type": "code",
   "execution_count": 206,
   "id": "4b44307f-2d92-4e59-8b1b-290ca51b16b0",
   "metadata": {},
   "outputs": [],
   "source": [
    "np.save(\"y_train.npy\", y_train)"
   ]
  },
  {
   "cell_type": "code",
   "execution_count": 186,
   "id": "9e35af73-996e-442c-8e66-13a3495395e2",
   "metadata": {},
   "outputs": [],
   "source": [
    "X_train = np.load(\"X_train.npy\")\n",
    "X_test = np.load(\"X_test.npy\")\n",
    "X_val = np.load(\"X_val.npy\")\n",
    "y_train = np.load(\"y_train.npy\")\n",
    "y_test = np.load(\"y_test.npy\")\n",
    "y_val = np.load(\"y_val.npy\")"
   ]
  },
  {
   "cell_type": "code",
   "execution_count": null,
   "id": "f980eb08-eab4-4cfc-bfee-721cb4dde51a",
   "metadata": {},
   "outputs": [],
   "source": []
  },
  {
   "cell_type": "code",
   "execution_count": 193,
   "id": "1a36aaf8-fb3a-4fa4-ac25-e0e533acf04e",
   "metadata": {},
   "outputs": [],
   "source": [
    "X_train = X_train.reshape(X_train.shape[0], X_train.shape[1]*X_train.shape[2])\n",
    "X_test = X_test.reshape(X_test.shape[0], X_test.shape[1]*X_test.shape[2])\n",
    "X_val = X_val.reshape(X_val.shape[0], X_val.shape[1]*X_val.shape[2])"
   ]
  },
  {
   "cell_type": "code",
   "execution_count": 194,
   "id": "abd926d4-f8fa-4339-a067-cd18a961a790",
   "metadata": {},
   "outputs": [],
   "source": [
    "from sklearn.ensemble import AdaBoostClassifier\n",
    "from sklearn.metrics import classification_report, accuracy_score"
   ]
  },
  {
   "cell_type": "code",
   "execution_count": 198,
   "id": "c606e577-95a4-4e98-a6d7-0072dca170d1",
   "metadata": {},
   "outputs": [
    {
     "name": "stderr",
     "output_type": "stream",
     "text": [
      "100%|█████████████████████████████████████████████████████████████████████████████████████| 8/8 [09:28<00:00, 71.10s/it]\n"
     ]
    }
   ],
   "source": [
    "estimators = [35, 50, 75, 100, 125, 150, 175, 200] \n",
    "accuracies = []\n",
    "for n in tqdm(estimators):\n",
    "    adaboost = AdaBoostClassifier(n_estimators = n, algorithm=\"SAMME\")\n",
    "    adaboost.fit(X_train,y_train)\n",
    "    preds = adaboost.predict(X_test)\n",
    "    \n",
    "    accuracies.append(accuracy_score(y_test, preds))\n",
    "\n"
   ]
  },
  {
   "cell_type": "code",
   "execution_count": 199,
   "id": "ee80cb06-d2af-4214-9ffa-4df3902a5917",
   "metadata": {},
   "outputs": [
    {
     "data": {
      "text/plain": [
       "<Axes: >"
      ]
     },
     "execution_count": 199,
     "metadata": {},
     "output_type": "execute_result"
    },
    {
     "data": {
      "image/png": "[encoded data removed]",
      "text/plain": [
       "<Figure size 640x480 with 1 Axes>"
      ]
     },
     "metadata": {},
     "output_type": "display_data"
    }
   ],
   "source": [
    "sns.scatterplot(x=estimators, y=accuracies)"
   ]
  },
  {
   "cell_type": "code",
   "execution_count": 200,
   "id": "94f104ab-3248-4fa4-b2a2-b9091049d213",
   "metadata": {},
   "outputs": [
    {
     "name": "stderr",
     "output_type": "stream",
     "text": [
      "100%|█████████████████████████████████████████████████████████████████████████████████████| 6/6 [01:41<00:00, 16.95s/it]\n"
     ]
    }
   ],
   "source": [
    "estimators = [15, 20, 25, 30, 35, 40] \n",
    "accuracies = []\n",
    "for n in tqdm(estimators):\n",
    "    adaboost = AdaBoostClassifier(n_estimators = n, algorithm=\"SAMME\")\n",
    "    adaboost.fit(X_train,y_train)\n",
    "    preds = adaboost.predict(X_test)\n",
    "    \n",
    "    accuracies.append(accuracy_score(y_test, preds))\n"
   ]
  },
  {
   "cell_type": "code",
   "execution_count": 201,
   "id": "d5272577-ca95-4515-856d-834543a26c89",
   "metadata": {},
   "outputs": [
    {
     "data": {
      "text/plain": [
       "<Axes: >"
      ]
     },
     "execution_count": 201,
     "metadata": {},
     "output_type": "execute_result"
    },
    {
     "data": {
      "image/png": "[encoded data removed]",
      "text/plain": [
       "<Figure size 640x480 with 1 Axes>"
      ]
     },
     "metadata": {},
     "output_type": "display_data"
    }
   ],
   "source": [
    "sns.scatterplot(x=estimators, y=accuracies)"
   ]
  },
  {
   "cell_type": "code",
   "execution_count": null,
   "id": "33412e33-d188-4e01-ba28-468af7e0929a",
   "metadata": {},
   "outputs": [],
   "source": []
  },
  {
   "cell_type": "code",
   "execution_count": 202,
   "id": "fccaaf11-873d-418d-ba4a-ea00cd4be393",
   "metadata": {},
   "outputs": [
    {
     "data": {
      "text/html": [
       "<style>#sk-container-id-9 {\n",
       "  /* Definition of color scheme common for light and dark mode */\n",
       "  --sklearn-color-text: black;\n",
       "  --sklearn-color-line: gray;\n",
       "  /* Definition of color scheme for unfitted estimators */\n",
       "  --sklearn-color-unfitted-level-0: #fff5e6;\n",
       "  --sklearn-color-unfitted-level-1: #f6e4d2;\n",
       "  --sklearn-color-unfitted-level-2: #ffe0b3;\n",
       "  --sklearn-color-unfitted-level-3: chocolate;\n",
       "  /* Definition of color scheme for fitted estimators */\n",
       "  --sklearn-color-fitted-level-0: #f0f8ff;\n",
       "  --sklearn-color-fitted-level-1: #d4ebff;\n",
       "  --sklearn-color-fitted-level-2: #b3dbfd;\n",
       "  --sklearn-color-fitted-level-3: cornflowerblue;\n",
       "\n",
       "  /* Specific color for light theme */\n",
       "  --sklearn-color-text-on-default-background: var(--sg-text-color, var(--theme-code-foreground, var(--jp-content-font-color1, black)));\n",
       "  --sklearn-color-background: var(--sg-background-color, var(--theme-background, var(--jp-layout-color0, white)));\n",
       "  --sklearn-color-border-box: var(--sg-text-color, var(--theme-code-foreground, var(--jp-content-font-color1, black)));\n",
       "  --sklearn-color-icon: #696969;\n",
       "\n",
       "  @media (prefers-color-scheme: dark) {\n",
       "    /* Redefinition of color scheme for dark theme */\n",
       "    --sklearn-color-text-on-default-background: var(--sg-text-color, var(--theme-code-foreground, var(--jp-content-font-color1, white)));\n",
       "    --sklearn-color-background: var(--sg-background-color, var(--theme-background, var(--jp-layout-color0, #111)));\n",
       "    --sklearn-color-border-box: var(--sg-text-color, var(--theme-code-foreground, var(--jp-content-font-color1, white)));\n",
       "    --sklearn-color-icon: #878787;\n",
       "  }\n",
       "}\n",
       "\n",
       "#sk-container-id-9 {\n",
       "  color: var(--sklearn-color-text);\n",
       "}\n",
       "\n",
       "#sk-container-id-9 pre {\n",
       "  padding: 0;\n",
       "}\n",
       "\n",
       "#sk-container-id-9 input.sk-hidden--visually {\n",
       "  border: 0;\n",
       "  clip: rect(1px 1px 1px 1px);\n",
       "  clip: rect(1px, 1px, 1px, 1px);\n",
       "  height: 1px;\n",
       "  margin: -1px;\n",
       "  overflow: hidden;\n",
       "  padding: 0;\n",
       "  position: absolute;\n",
       "  width: 1px;\n",
       "}\n",
       "\n",
       "#sk-container-id-9 div.sk-dashed-wrapped {\n",
       "  border: 1px dashed var(--sklearn-color-line);\n",
       "  margin: 0 0.4em 0.5em 0.4em;\n",
       "  box-sizing: border-box;\n",
       "  padding-bottom: 0.4em;\n",
       "  background-color: var(--sklearn-color-background);\n",
       "}\n",
       "\n",
       "#sk-container-id-9 div.sk-container {\n",
       "  /* jupyter's `normalize.less` sets `[hidden] { display: none; }`\n",
       "     but bootstrap.min.css set `[hidden] { display: none !important; }`\n",
       "     so we also need the `!important` here to be able to override the\n",
       "     default hidden behavior on the sphinx rendered scikit-learn.org.\n",
       "     See: https://github.com/scikit-learn/scikit-learn/issues/21755 */\n",
       "  display: inline-block !important;\n",
       "  position: relative;\n",
       "}\n",
       "\n",
       "#sk-container-id-9 div.sk-text-repr-fallback {\n",
       "  display: none;\n",
       "}\n",
       "\n",
       "div.sk-parallel-item,\n",
       "div.sk-serial,\n",
       "div.sk-item {\n",
       "  /* draw centered vertical line to link estimators */\n",
       "  background-image: linear-gradient(var(--sklearn-color-text-on-default-background), var(--sklearn-color-text-on-default-background));\n",
       "  background-size: 2px 100%;\n",
       "  background-repeat: no-repeat;\n",
       "  background-position: center center;\n",
       "}\n",
       "\n",
       "/* Parallel-specific style estimator block */\n",
       "\n",
       "#sk-container-id-9 div.sk-parallel-item::after {\n",
       "  content: \"\";\n",
       "  width: 100%;\n",
       "  border-bottom: 2px solid var(--sklearn-color-text-on-default-background);\n",
       "  flex-grow: 1;\n",
       "}\n",
       "\n",
       "#sk-container-id-9 div.sk-parallel {\n",
       "  display: flex;\n",
       "  align-items: stretch;\n",
       "  justify-content: center;\n",
       "  background-color: var(--sklearn-color-background);\n",
       "  position: relative;\n",
       "}\n",
       "\n",
       "#sk-container-id-9 div.sk-parallel-item {\n",
       "  display: flex;\n",
       "  flex-direction: column;\n",
       "}\n",
       "\n",
       "#sk-container-id-9 div.sk-parallel-item:first-child::after {\n",
       "  align-self: flex-end;\n",
       "  width: 50%;\n",
       "}\n",
       "\n",
       "#sk-container-id-9 div.sk-parallel-item:last-child::after {\n",
       "  align-self: flex-start;\n",
       "  width: 50%;\n",
       "}\n",
       "\n",
       "#sk-container-id-9 div.sk-parallel-item:only-child::after {\n",
       "  width: 0;\n",
       "}\n",
       "\n",
       "/* Serial-specific style estimator block */\n",
       "\n",
       "#sk-container-id-9 div.sk-serial {\n",
       "  display: flex;\n",
       "  flex-direction: column;\n",
       "  align-items: center;\n",
       "  background-color: var(--sklearn-color-background);\n",
       "  padding-right: 1em;\n",
       "  padding-left: 1em;\n",
       "}\n",
       "\n",
       "\n",
       "/* Toggleable style: style used for estimator/Pipeline/ColumnTransformer box that is\n",
       "clickable and can be expanded/collapsed.\n",
       "- Pipeline and ColumnTransformer use this feature and define the default style\n",
       "- Estimators will overwrite some part of the style using the `sk-estimator` class\n",
       "*/\n",
       "\n",
       "/* Pipeline and ColumnTransformer style (default) */\n",
       "\n",
       "#sk-container-id-9 div.sk-toggleable {\n",
       "  /* Default theme specific background. It is overwritten whether we have a\n",
       "  specific estimator or a Pipeline/ColumnTransformer */\n",
       "  background-color: var(--sklearn-color-background);\n",
       "}\n",
       "\n",
       "/* Toggleable label */\n",
       "#sk-container-id-9 label.sk-toggleable__label {\n",
       "  cursor: pointer;\n",
       "  display: block;\n",
       "  width: 100%;\n",
       "  margin-bottom: 0;\n",
       "  padding: 0.5em;\n",
       "  box-sizing: border-box;\n",
       "  text-align: center;\n",
       "}\n",
       "\n",
       "#sk-container-id-9 label.sk-toggleable__label-arrow:before {\n",
       "  /* Arrow on the left of the label */\n",
       "  content: \"▸\";\n",
       "  float: left;\n",
       "  margin-right: 0.25em;\n",
       "  color: var(--sklearn-color-icon);\n",
       "}\n",
       "\n",
       "#sk-container-id-9 label.sk-toggleable__label-arrow:hover:before {\n",
       "  color: var(--sklearn-color-text);\n",
       "}\n",
       "\n",
       "/* Toggleable content - dropdown */\n",
       "\n",
       "#sk-container-id-9 div.sk-toggleable__content {\n",
       "  max-height: 0;\n",
       "  max-width: 0;\n",
       "  overflow: hidden;\n",
       "  text-align: left;\n",
       "  /* unfitted */\n",
       "  background-color: var(--sklearn-color-unfitted-level-0);\n",
       "}\n",
       "\n",
       "#sk-container-id-9 div.sk-toggleable__content.fitted {\n",
       "  /* fitted */\n",
       "  background-color: var(--sklearn-color-fitted-level-0);\n",
       "}\n",
       "\n",
       "#sk-container-id-9 div.sk-toggleable__content pre {\n",
       "  margin: 0.2em;\n",
       "  border-radius: 0.25em;\n",
       "  color: var(--sklearn-color-text);\n",
       "  /* unfitted */\n",
       "  background-color: var(--sklearn-color-unfitted-level-0);\n",
       "}\n",
       "\n",
       "#sk-container-id-9 div.sk-toggleable__content.fitted pre {\n",
       "  /* unfitted */\n",
       "  background-color: var(--sklearn-color-fitted-level-0);\n",
       "}\n",
       "\n",
       "#sk-container-id-9 input.sk-toggleable__control:checked~div.sk-toggleable__content {\n",
       "  /* Expand drop-down */\n",
       "  max-height: 200px;\n",
       "  max-width: 100%;\n",
       "  overflow: auto;\n",
       "}\n",
       "\n",
       "#sk-container-id-9 input.sk-toggleable__control:checked~label.sk-toggleable__label-arrow:before {\n",
       "  content: \"▾\";\n",
       "}\n",
       "\n",
       "/* Pipeline/ColumnTransformer-specific style */\n",
       "\n",
       "#sk-container-id-9 div.sk-label input.sk-toggleable__control:checked~label.sk-toggleable__label {\n",
       "  color: var(--sklearn-color-text);\n",
       "  background-color: var(--sklearn-color-unfitted-level-2);\n",
       "}\n",
       "\n",
       "#sk-container-id-9 div.sk-label.fitted input.sk-toggleable__control:checked~label.sk-toggleable__label {\n",
       "  background-color: var(--sklearn-color-fitted-level-2);\n",
       "}\n",
       "\n",
       "/* Estimator-specific style */\n",
       "\n",
       "/* Colorize estimator box */\n",
       "#sk-container-id-9 div.sk-estimator input.sk-toggleable__control:checked~label.sk-toggleable__label {\n",
       "  /* unfitted */\n",
       "  background-color: var(--sklearn-color-unfitted-level-2);\n",
       "}\n",
       "\n",
       "#sk-container-id-9 div.sk-estimator.fitted input.sk-toggleable__control:checked~label.sk-toggleable__label {\n",
       "  /* fitted */\n",
       "  background-color: var(--sklearn-color-fitted-level-2);\n",
       "}\n",
       "\n",
       "#sk-container-id-9 div.sk-label label.sk-toggleable__label,\n",
       "#sk-container-id-9 div.sk-label label {\n",
       "  /* The background is the default theme color */\n",
       "  color: var(--sklearn-color-text-on-default-background);\n",
       "}\n",
       "\n",
       "/* On hover, darken the color of the background */\n",
       "#sk-container-id-9 div.sk-label:hover label.sk-toggleable__label {\n",
       "  color: var(--sklearn-color-text);\n",
       "  background-color: var(--sklearn-color-unfitted-level-2);\n",
       "}\n",
       "\n",
       "/* Label box, darken color on hover, fitted */\n",
       "#sk-container-id-9 div.sk-label.fitted:hover label.sk-toggleable__label.fitted {\n",
       "  color: var(--sklearn-color-text);\n",
       "  background-color: var(--sklearn-color-fitted-level-2);\n",
       "}\n",
       "\n",
       "/* Estimator label */\n",
       "\n",
       "#sk-container-id-9 div.sk-label label {\n",
       "  font-family: monospace;\n",
       "  font-weight: bold;\n",
       "  display: inline-block;\n",
       "  line-height: 1.2em;\n",
       "}\n",
       "\n",
       "#sk-container-id-9 div.sk-label-container {\n",
       "  text-align: center;\n",
       "}\n",
       "\n",
       "/* Estimator-specific */\n",
       "#sk-container-id-9 div.sk-estimator {\n",
       "  font-family: monospace;\n",
       "  border: 1px dotted var(--sklearn-color-border-box);\n",
       "  border-radius: 0.25em;\n",
       "  box-sizing: border-box;\n",
       "  margin-bottom: 0.5em;\n",
       "  /* unfitted */\n",
       "  background-color: var(--sklearn-color-unfitted-level-0);\n",
       "}\n",
       "\n",
       "#sk-container-id-9 div.sk-estimator.fitted {\n",
       "  /* fitted */\n",
       "  background-color: var(--sklearn-color-fitted-level-0);\n",
       "}\n",
       "\n",
       "/* on hover */\n",
       "#sk-container-id-9 div.sk-estimator:hover {\n",
       "  /* unfitted */\n",
       "  background-color: var(--sklearn-color-unfitted-level-2);\n",
       "}\n",
       "\n",
       "#sk-container-id-9 div.sk-estimator.fitted:hover {\n",
       "  /* fitted */\n",
       "  background-color: var(--sklearn-color-fitted-level-2);\n",
       "}\n",
       "\n",
       "/* Specification for estimator info (e.g. \"i\" and \"?\") */\n",
       "\n",
       "/* Common style for \"i\" and \"?\" */\n",
       "\n",
       ".sk-estimator-doc-link,\n",
       "a:link.sk-estimator-doc-link,\n",
       "a:visited.sk-estimator-doc-link {\n",
       "  float: right;\n",
       "  font-size: smaller;\n",
       "  line-height: 1em;\n",
       "  font-family: monospace;\n",
       "  background-color: var(--sklearn-color-background);\n",
       "  border-radius: 1em;\n",
       "  height: 1em;\n",
       "  width: 1em;\n",
       "  text-decoration: none !important;\n",
       "  margin-left: 1ex;\n",
       "  /* unfitted */\n",
       "  border: var(--sklearn-color-unfitted-level-1) 1pt solid;\n",
       "  color: var(--sklearn-color-unfitted-level-1);\n",
       "}\n",
       "\n",
       ".sk-estimator-doc-link.fitted,\n",
       "a:link.sk-estimator-doc-link.fitted,\n",
       "a:visited.sk-estimator-doc-link.fitted {\n",
       "  /* fitted */\n",
       "  border: var(--sklearn-color-fitted-level-1) 1pt solid;\n",
       "  color: var(--sklearn-color-fitted-level-1);\n",
       "}\n",
       "\n",
       "/* On hover */\n",
       "div.sk-estimator:hover .sk-estimator-doc-link:hover,\n",
       ".sk-estimator-doc-link:hover,\n",
       "div.sk-label-container:hover .sk-estimator-doc-link:hover,\n",
       ".sk-estimator-doc-link:hover {\n",
       "  /* unfitted */\n",
       "  background-color: var(--sklearn-color-unfitted-level-3);\n",
       "  color: var(--sklearn-color-background);\n",
       "  text-decoration: none;\n",
       "}\n",
       "\n",
       "div.sk-estimator.fitted:hover .sk-estimator-doc-link.fitted:hover,\n",
       ".sk-estimator-doc-link.fitted:hover,\n",
       "div.sk-label-container:hover .sk-estimator-doc-link.fitted:hover,\n",
       ".sk-estimator-doc-link.fitted:hover {\n",
       "  /* fitted */\n",
       "  background-color: var(--sklearn-color-fitted-level-3);\n",
       "  color: var(--sklearn-color-background);\n",
       "  text-decoration: none;\n",
       "}\n",
       "\n",
       "/* Span, style for the box shown on hovering the info icon */\n",
       ".sk-estimator-doc-link span {\n",
       "  display: none;\n",
       "  z-index: 9999;\n",
       "  position: relative;\n",
       "  font-weight: normal;\n",
       "  right: .2ex;\n",
       "  padding: .5ex;\n",
       "  margin: .5ex;\n",
       "  width: min-content;\n",
       "  min-width: 20ex;\n",
       "  max-width: 50ex;\n",
       "  color: var(--sklearn-color-text);\n",
       "  box-shadow: 2pt 2pt 4pt #999;\n",
       "  /* unfitted */\n",
       "  background: var(--sklearn-color-unfitted-level-0);\n",
       "  border: .5pt solid var(--sklearn-color-unfitted-level-3);\n",
       "}\n",
       "\n",
       ".sk-estimator-doc-link.fitted span {\n",
       "  /* fitted */\n",
       "  background: var(--sklearn-color-fitted-level-0);\n",
       "  border: var(--sklearn-color-fitted-level-3);\n",
       "}\n",
       "\n",
       ".sk-estimator-doc-link:hover span {\n",
       "  display: block;\n",
       "}\n",
       "\n",
       "/* \"?\"-specific style due to the `<a>` HTML tag */\n",
       "\n",
       "#sk-container-id-9 a.estimator_doc_link {\n",
       "  float: right;\n",
       "  font-size: 1rem;\n",
       "  line-height: 1em;\n",
       "  font-family: monospace;\n",
       "  background-color: var(--sklearn-color-background);\n",
       "  border-radius: 1rem;\n",
       "  height: 1rem;\n",
       "  width: 1rem;\n",
       "  text-decoration: none;\n",
       "  /* unfitted */\n",
       "  color: var(--sklearn-color-unfitted-level-1);\n",
       "  border: var(--sklearn-color-unfitted-level-1) 1pt solid;\n",
       "}\n",
       "\n",
       "#sk-container-id-9 a.estimator_doc_link.fitted {\n",
       "  /* fitted */\n",
       "  border: var(--sklearn-color-fitted-level-1) 1pt solid;\n",
       "  color: var(--sklearn-color-fitted-level-1);\n",
       "}\n",
       "\n",
       "/* On hover */\n",
       "#sk-container-id-9 a.estimator_doc_link:hover {\n",
       "  /* unfitted */\n",
       "  background-color: var(--sklearn-color-unfitted-level-3);\n",
       "  color: var(--sklearn-color-background);\n",
       "  text-decoration: none;\n",
       "}\n",
       "\n",
       "#sk-container-id-9 a.estimator_doc_link.fitted:hover {\n",
       "  /* fitted */\n",
       "  background-color: var(--sklearn-color-fitted-level-3);\n",
       "}\n",
       "</style><div id=\"sk-container-id-9\" class=\"sk-top-container\"><div class=\"sk-text-repr-fallback\"><pre>AdaBoostClassifier(algorithm=&#x27;SAMME&#x27;, n_estimators=20)</pre><b>In a Jupyter environment, please rerun this cell to show the HTML representation or trust the notebook. <br />On GitHub, the HTML representation is unable to render, please try loading this page with nbviewer.org.</b></div><div class=\"sk-container\" hidden><div class=\"sk-item\"><div class=\"sk-estimator fitted sk-toggleable\"><input class=\"sk-toggleable__control sk-hidden--visually\" id=\"sk-estimator-id-9\" type=\"checkbox\" checked><label for=\"sk-estimator-id-9\" class=\"sk-toggleable__label fitted sk-toggleable__label-arrow fitted\">&nbsp;&nbsp;AdaBoostClassifier<a class=\"sk-estimator-doc-link fitted\" rel=\"noreferrer\" target=\"_blank\" href=\"https://scikit-learn.org/1.5/modules/generated/sklearn.ensemble.AdaBoostClassifier.html\">?<span>Documentation for AdaBoostClassifier</span></a><span class=\"sk-estimator-doc-link fitted\">i<span>Fitted</span></span></label><div class=\"sk-toggleable__content fitted\"><pre>AdaBoostClassifier(algorithm=&#x27;SAMME&#x27;, n_estimators=20)</pre></div> </div></div></div></div>"
      ],
      "text/plain": [
       "AdaBoostClassifier(algorithm='SAMME', n_estimators=20)"
      ]
     },
     "execution_count": 202,
     "metadata": {},
     "output_type": "execute_result"
    }
   ],
   "source": [
    "adaboost = AdaBoostClassifier(n_estimators = 20, algorithm=\"SAMME\")\n",
    "adaboost.fit(X_train,y_train)"
   ]
  },
  {
   "cell_type": "code",
   "execution_count": 203,
   "id": "7881d15d-9e90-413e-acd6-286a7ecc1b6c",
   "metadata": {},
   "outputs": [],
   "source": [
    "preds = adaboost.predict(X_test)"
   ]
  },
  {
   "cell_type": "code",
   "execution_count": 204,
   "id": "82cbb3f4-64da-4bdc-bc51-a3a6d449e485",
   "metadata": {},
   "outputs": [
    {
     "name": "stdout",
     "output_type": "stream",
     "text": [
      "              precision    recall  f1-score   support\n",
      "\n",
      "           0       0.72      0.57      0.64      1760\n",
      "           1       0.65      0.78      0.71      1760\n",
      "\n",
      "    accuracy                           0.68      3520\n",
      "   macro avg       0.68      0.68      0.67      3520\n",
      "weighted avg       0.68      0.68      0.67      3520\n",
      "\n"
     ]
    }
   ],
   "source": [
    "print(classification_report(y_test,preds))"
   ]
  },
  {
   "cell_type": "code",
   "execution_count": 161,
   "id": "30f9d9fd-06a6-40f9-83f2-e3c4168ef896",
   "metadata": {},
   "outputs": [
    {
     "name": "stdout",
     "output_type": "stream",
     "text": [
      "Indices of important features: [  6  30  38  39  43  50  60  68  69  78 104 105 114 122 132 133 145 150\n",
      " 156 177 186 195 223 230 231 240 246 247 254 257 266 267 285 296 299 302\n",
      " 321 356 357 366 372 374 375 383 385 393 402 407 411 423 426 427 428 429\n",
      " 457 465]\n"
     ]
    }
   ],
   "source": [
    "important_feature_indices = np.where(adaboost.feature_importances_ > 0)[0]\n",
    "\n",
    "print(\"Indices of important features:\", important_feature_indices)"
   ]
  },
  {
   "cell_type": "code",
   "execution_count": 162,
   "id": "dd477aed-fb65-4b09-887c-17d70ad3f38f",
   "metadata": {},
   "outputs": [],
   "source": [
    "X_train_selected = X_train_np[:, important_feature_indices]"
   ]
  },
  {
   "cell_type": "code",
   "execution_count": 163,
   "id": "3c4e14f3-6ed7-46c7-bbd1-d4e00e959e1e",
   "metadata": {},
   "outputs": [],
   "source": [
    "X_test_selected = X_test_np[:,important_feature_indices]\n",
    "X_val_selected = X_val_np[:, important_feature_indices]"
   ]
  },
  {
   "cell_type": "code",
   "execution_count": 164,
   "id": "c8f7caa8-e227-445b-afb7-b35abd3ee873",
   "metadata": {},
   "outputs": [],
   "source": [
    "from sklearn.svm import SVC"
   ]
  },
  {
   "cell_type": "code",
   "execution_count": 165,
   "id": "4b0e40f4-4ee0-403d-8714-289d30b17388",
   "metadata": {},
   "outputs": [
    {
     "data": {
      "text/html": [
       "<style>#sk-container-id-6 {\n",
       "  /* Definition of color scheme common for light and dark mode */\n",
       "  --sklearn-color-text: black;\n",
       "  --sklearn-color-line: gray;\n",
       "  /* Definition of color scheme for unfitted estimators */\n",
       "  --sklearn-color-unfitted-level-0: #fff5e6;\n",
       "  --sklearn-color-unfitted-level-1: #f6e4d2;\n",
       "  --sklearn-color-unfitted-level-2: #ffe0b3;\n",
       "  --sklearn-color-unfitted-level-3: chocolate;\n",
       "  /* Definition of color scheme for fitted estimators */\n",
       "  --sklearn-color-fitted-level-0: #f0f8ff;\n",
       "  --sklearn-color-fitted-level-1: #d4ebff;\n",
       "  --sklearn-color-fitted-level-2: #b3dbfd;\n",
       "  --sklearn-color-fitted-level-3: cornflowerblue;\n",
       "\n",
       "  /* Specific color for light theme */\n",
       "  --sklearn-color-text-on-default-background: var(--sg-text-color, var(--theme-code-foreground, var(--jp-content-font-color1, black)));\n",
       "  --sklearn-color-background: var(--sg-background-color, var(--theme-background, var(--jp-layout-color0, white)));\n",
       "  --sklearn-color-border-box: var(--sg-text-color, var(--theme-code-foreground, var(--jp-content-font-color1, black)));\n",
       "  --sklearn-color-icon: #696969;\n",
       "\n",
       "  @media (prefers-color-scheme: dark) {\n",
       "    /* Redefinition of color scheme for dark theme */\n",
       "    --sklearn-color-text-on-default-background: var(--sg-text-color, var(--theme-code-foreground, var(--jp-content-font-color1, white)));\n",
       "    --sklearn-color-background: var(--sg-background-color, var(--theme-background, var(--jp-layout-color0, #111)));\n",
       "    --sklearn-color-border-box: var(--sg-text-color, var(--theme-code-foreground, var(--jp-content-font-color1, white)));\n",
       "    --sklearn-color-icon: #878787;\n",
       "  }\n",
       "}\n",
       "\n",
       "#sk-container-id-6 {\n",
       "  color: var(--sklearn-color-text);\n",
       "}\n",
       "\n",
       "#sk-container-id-6 pre {\n",
       "  padding: 0;\n",
       "}\n",
       "\n",
       "#sk-container-id-6 input.sk-hidden--visually {\n",
       "  border: 0;\n",
       "  clip: rect(1px 1px 1px 1px);\n",
       "  clip: rect(1px, 1px, 1px, 1px);\n",
       "  height: 1px;\n",
       "  margin: -1px;\n",
       "  overflow: hidden;\n",
       "  padding: 0;\n",
       "  position: absolute;\n",
       "  width: 1px;\n",
       "}\n",
       "\n",
       "#sk-container-id-6 div.sk-dashed-wrapped {\n",
       "  border: 1px dashed var(--sklearn-color-line);\n",
       "  margin: 0 0.4em 0.5em 0.4em;\n",
       "  box-sizing: border-box;\n",
       "  padding-bottom: 0.4em;\n",
       "  background-color: var(--sklearn-color-background);\n",
       "}\n",
       "\n",
       "#sk-container-id-6 div.sk-container {\n",
       "  /* jupyter's `normalize.less` sets `[hidden] { display: none; }`\n",
       "     but bootstrap.min.css set `[hidden] { display: none !important; }`\n",
       "     so we also need the `!important` here to be able to override the\n",
       "     default hidden behavior on the sphinx rendered scikit-learn.org.\n",
       "     See: https://github.com/scikit-learn/scikit-learn/issues/21755 */\n",
       "  display: inline-block !important;\n",
       "  position: relative;\n",
       "}\n",
       "\n",
       "#sk-container-id-6 div.sk-text-repr-fallback {\n",
       "  display: none;\n",
       "}\n",
       "\n",
       "div.sk-parallel-item,\n",
       "div.sk-serial,\n",
       "div.sk-item {\n",
       "  /* draw centered vertical line to link estimators */\n",
       "  background-image: linear-gradient(var(--sklearn-color-text-on-default-background), var(--sklearn-color-text-on-default-background));\n",
       "  background-size: 2px 100%;\n",
       "  background-repeat: no-repeat;\n",
       "  background-position: center center;\n",
       "}\n",
       "\n",
       "/* Parallel-specific style estimator block */\n",
       "\n",
       "#sk-container-id-6 div.sk-parallel-item::after {\n",
       "  content: \"\";\n",
       "  width: 100%;\n",
       "  border-bottom: 2px solid var(--sklearn-color-text-on-default-background);\n",
       "  flex-grow: 1;\n",
       "}\n",
       "\n",
       "#sk-container-id-6 div.sk-parallel {\n",
       "  display: flex;\n",
       "  align-items: stretch;\n",
       "  justify-content: center;\n",
       "  background-color: var(--sklearn-color-background);\n",
       "  position: relative;\n",
       "}\n",
       "\n",
       "#sk-container-id-6 div.sk-parallel-item {\n",
       "  display: flex;\n",
       "  flex-direction: column;\n",
       "}\n",
       "\n",
       "#sk-container-id-6 div.sk-parallel-item:first-child::after {\n",
       "  align-self: flex-end;\n",
       "  width: 50%;\n",
       "}\n",
       "\n",
       "#sk-container-id-6 div.sk-parallel-item:last-child::after {\n",
       "  align-self: flex-start;\n",
       "  width: 50%;\n",
       "}\n",
       "\n",
       "#sk-container-id-6 div.sk-parallel-item:only-child::after {\n",
       "  width: 0;\n",
       "}\n",
       "\n",
       "/* Serial-specific style estimator block */\n",
       "\n",
       "#sk-container-id-6 div.sk-serial {\n",
       "  display: flex;\n",
       "  flex-direction: column;\n",
       "  align-items: center;\n",
       "  background-color: var(--sklearn-color-background);\n",
       "  padding-right: 1em;\n",
       "  padding-left: 1em;\n",
       "}\n",
       "\n",
       "\n",
       "/* Toggleable style: style used for estimator/Pipeline/ColumnTransformer box that is\n",
       "clickable and can be expanded/collapsed.\n",
       "- Pipeline and ColumnTransformer use this feature and define the default style\n",
       "- Estimators will overwrite some part of the style using the `sk-estimator` class\n",
       "*/\n",
       "\n",
       "/* Pipeline and ColumnTransformer style (default) */\n",
       "\n",
       "#sk-container-id-6 div.sk-toggleable {\n",
       "  /* Default theme specific background. It is overwritten whether we have a\n",
       "  specific estimator or a Pipeline/ColumnTransformer */\n",
       "  background-color: var(--sklearn-color-background);\n",
       "}\n",
       "\n",
       "/* Toggleable label */\n",
       "#sk-container-id-6 label.sk-toggleable__label {\n",
       "  cursor: pointer;\n",
       "  display: block;\n",
       "  width: 100%;\n",
       "  margin-bottom: 0;\n",
       "  padding: 0.5em;\n",
       "  box-sizing: border-box;\n",
       "  text-align: center;\n",
       "}\n",
       "\n",
       "#sk-container-id-6 label.sk-toggleable__label-arrow:before {\n",
       "  /* Arrow on the left of the label */\n",
       "  content: \"▸\";\n",
       "  float: left;\n",
       "  margin-right: 0.25em;\n",
       "  color: var(--sklearn-color-icon);\n",
       "}\n",
       "\n",
       "#sk-container-id-6 label.sk-toggleable__label-arrow:hover:before {\n",
       "  color: var(--sklearn-color-text);\n",
       "}\n",
       "\n",
       "/* Toggleable content - dropdown */\n",
       "\n",
       "#sk-container-id-6 div.sk-toggleable__content {\n",
       "  max-height: 0;\n",
       "  max-width: 0;\n",
       "  overflow: hidden;\n",
       "  text-align: left;\n",
       "  /* unfitted */\n",
       "  background-color: var(--sklearn-color-unfitted-level-0);\n",
       "}\n",
       "\n",
       "#sk-container-id-6 div.sk-toggleable__content.fitted {\n",
       "  /* fitted */\n",
       "  background-color: var(--sklearn-color-fitted-level-0);\n",
       "}\n",
       "\n",
       "#sk-container-id-6 div.sk-toggleable__content pre {\n",
       "  margin: 0.2em;\n",
       "  border-radius: 0.25em;\n",
       "  color: var(--sklearn-color-text);\n",
       "  /* unfitted */\n",
       "  background-color: var(--sklearn-color-unfitted-level-0);\n",
       "}\n",
       "\n",
       "#sk-container-id-6 div.sk-toggleable__content.fitted pre {\n",
       "  /* unfitted */\n",
       "  background-color: var(--sklearn-color-fitted-level-0);\n",
       "}\n",
       "\n",
       "#sk-container-id-6 input.sk-toggleable__control:checked~div.sk-toggleable__content {\n",
       "  /* Expand drop-down */\n",
       "  max-height: 200px;\n",
       "  max-width: 100%;\n",
       "  overflow: auto;\n",
       "}\n",
       "\n",
       "#sk-container-id-6 input.sk-toggleable__control:checked~label.sk-toggleable__label-arrow:before {\n",
       "  content: \"▾\";\n",
       "}\n",
       "\n",
       "/* Pipeline/ColumnTransformer-specific style */\n",
       "\n",
       "#sk-container-id-6 div.sk-label input.sk-toggleable__control:checked~label.sk-toggleable__label {\n",
       "  color: var(--sklearn-color-text);\n",
       "  background-color: var(--sklearn-color-unfitted-level-2);\n",
       "}\n",
       "\n",
       "#sk-container-id-6 div.sk-label.fitted input.sk-toggleable__control:checked~label.sk-toggleable__label {\n",
       "  background-color: var(--sklearn-color-fitted-level-2);\n",
       "}\n",
       "\n",
       "/* Estimator-specific style */\n",
       "\n",
       "/* Colorize estimator box */\n",
       "#sk-container-id-6 div.sk-estimator input.sk-toggleable__control:checked~label.sk-toggleable__label {\n",
       "  /* unfitted */\n",
       "  background-color: var(--sklearn-color-unfitted-level-2);\n",
       "}\n",
       "\n",
       "#sk-container-id-6 div.sk-estimator.fitted input.sk-toggleable__control:checked~label.sk-toggleable__label {\n",
       "  /* fitted */\n",
       "  background-color: var(--sklearn-color-fitted-level-2);\n",
       "}\n",
       "\n",
       "#sk-container-id-6 div.sk-label label.sk-toggleable__label,\n",
       "#sk-container-id-6 div.sk-label label {\n",
       "  /* The background is the default theme color */\n",
       "  color: var(--sklearn-color-text-on-default-background);\n",
       "}\n",
       "\n",
       "/* On hover, darken the color of the background */\n",
       "#sk-container-id-6 div.sk-label:hover label.sk-toggleable__label {\n",
       "  color: var(--sklearn-color-text);\n",
       "  background-color: var(--sklearn-color-unfitted-level-2);\n",
       "}\n",
       "\n",
       "/* Label box, darken color on hover, fitted */\n",
       "#sk-container-id-6 div.sk-label.fitted:hover label.sk-toggleable__label.fitted {\n",
       "  color: var(--sklearn-color-text);\n",
       "  background-color: var(--sklearn-color-fitted-level-2);\n",
       "}\n",
       "\n",
       "/* Estimator label */\n",
       "\n",
       "#sk-container-id-6 div.sk-label label {\n",
       "  font-family: monospace;\n",
       "  font-weight: bold;\n",
       "  display: inline-block;\n",
       "  line-height: 1.2em;\n",
       "}\n",
       "\n",
       "#sk-container-id-6 div.sk-label-container {\n",
       "  text-align: center;\n",
       "}\n",
       "\n",
       "/* Estimator-specific */\n",
       "#sk-container-id-6 div.sk-estimator {\n",
       "  font-family: monospace;\n",
       "  border: 1px dotted var(--sklearn-color-border-box);\n",
       "  border-radius: 0.25em;\n",
       "  box-sizing: border-box;\n",
       "  margin-bottom: 0.5em;\n",
       "  /* unfitted */\n",
       "  background-color: var(--sklearn-color-unfitted-level-0);\n",
       "}\n",
       "\n",
       "#sk-container-id-6 div.sk-estimator.fitted {\n",
       "  /* fitted */\n",
       "  background-color: var(--sklearn-color-fitted-level-0);\n",
       "}\n",
       "\n",
       "/* on hover */\n",
       "#sk-container-id-6 div.sk-estimator:hover {\n",
       "  /* unfitted */\n",
       "  background-color: var(--sklearn-color-unfitted-level-2);\n",
       "}\n",
       "\n",
       "#sk-container-id-6 div.sk-estimator.fitted:hover {\n",
       "  /* fitted */\n",
       "  background-color: var(--sklearn-color-fitted-level-2);\n",
       "}\n",
       "\n",
       "/* Specification for estimator info (e.g. \"i\" and \"?\") */\n",
       "\n",
       "/* Common style for \"i\" and \"?\" */\n",
       "\n",
       ".sk-estimator-doc-link,\n",
       "a:link.sk-estimator-doc-link,\n",
       "a:visited.sk-estimator-doc-link {\n",
       "  float: right;\n",
       "  font-size: smaller;\n",
       "  line-height: 1em;\n",
       "  font-family: monospace;\n",
       "  background-color: var(--sklearn-color-background);\n",
       "  border-radius: 1em;\n",
       "  height: 1em;\n",
       "  width: 1em;\n",
       "  text-decoration: none !important;\n",
       "  margin-left: 1ex;\n",
       "  /* unfitted */\n",
       "  border: var(--sklearn-color-unfitted-level-1) 1pt solid;\n",
       "  color: var(--sklearn-color-unfitted-level-1);\n",
       "}\n",
       "\n",
       ".sk-estimator-doc-link.fitted,\n",
       "a:link.sk-estimator-doc-link.fitted,\n",
       "a:visited.sk-estimator-doc-link.fitted {\n",
       "  /* fitted */\n",
       "  border: var(--sklearn-color-fitted-level-1) 1pt solid;\n",
       "  color: var(--sklearn-color-fitted-level-1);\n",
       "}\n",
       "\n",
       "/* On hover */\n",
       "div.sk-estimator:hover .sk-estimator-doc-link:hover,\n",
       ".sk-estimator-doc-link:hover,\n",
       "div.sk-label-container:hover .sk-estimator-doc-link:hover,\n",
       ".sk-estimator-doc-link:hover {\n",
       "  /* unfitted */\n",
       "  background-color: var(--sklearn-color-unfitted-level-3);\n",
       "  color: var(--sklearn-color-background);\n",
       "  text-decoration: none;\n",
       "}\n",
       "\n",
       "div.sk-estimator.fitted:hover .sk-estimator-doc-link.fitted:hover,\n",
       ".sk-estimator-doc-link.fitted:hover,\n",
       "div.sk-label-container:hover .sk-estimator-doc-link.fitted:hover,\n",
       ".sk-estimator-doc-link.fitted:hover {\n",
       "  /* fitted */\n",
       "  background-color: var(--sklearn-color-fitted-level-3);\n",
       "  color: var(--sklearn-color-background);\n",
       "  text-decoration: none;\n",
       "}\n",
       "\n",
       "/* Span, style for the box shown on hovering the info icon */\n",
       ".sk-estimator-doc-link span {\n",
       "  display: none;\n",
       "  z-index: 9999;\n",
       "  position: relative;\n",
       "  font-weight: normal;\n",
       "  right: .2ex;\n",
       "  padding: .5ex;\n",
       "  margin: .5ex;\n",
       "  width: min-content;\n",
       "  min-width: 20ex;\n",
       "  max-width: 50ex;\n",
       "  color: var(--sklearn-color-text);\n",
       "  box-shadow: 2pt 2pt 4pt #999;\n",
       "  /* unfitted */\n",
       "  background: var(--sklearn-color-unfitted-level-0);\n",
       "  border: .5pt solid var(--sklearn-color-unfitted-level-3);\n",
       "}\n",
       "\n",
       ".sk-estimator-doc-link.fitted span {\n",
       "  /* fitted */\n",
       "  background: var(--sklearn-color-fitted-level-0);\n",
       "  border: var(--sklearn-color-fitted-level-3);\n",
       "}\n",
       "\n",
       ".sk-estimator-doc-link:hover span {\n",
       "  display: block;\n",
       "}\n",
       "\n",
       "/* \"?\"-specific style due to the `<a>` HTML tag */\n",
       "\n",
       "#sk-container-id-6 a.estimator_doc_link {\n",
       "  float: right;\n",
       "  font-size: 1rem;\n",
       "  line-height: 1em;\n",
       "  font-family: monospace;\n",
       "  background-color: var(--sklearn-color-background);\n",
       "  border-radius: 1rem;\n",
       "  height: 1rem;\n",
       "  width: 1rem;\n",
       "  text-decoration: none;\n",
       "  /* unfitted */\n",
       "  color: var(--sklearn-color-unfitted-level-1);\n",
       "  border: var(--sklearn-color-unfitted-level-1) 1pt solid;\n",
       "}\n",
       "\n",
       "#sk-container-id-6 a.estimator_doc_link.fitted {\n",
       "  /* fitted */\n",
       "  border: var(--sklearn-color-fitted-level-1) 1pt solid;\n",
       "  color: var(--sklearn-color-fitted-level-1);\n",
       "}\n",
       "\n",
       "/* On hover */\n",
       "#sk-container-id-6 a.estimator_doc_link:hover {\n",
       "  /* unfitted */\n",
       "  background-color: var(--sklearn-color-unfitted-level-3);\n",
       "  color: var(--sklearn-color-background);\n",
       "  text-decoration: none;\n",
       "}\n",
       "\n",
       "#sk-container-id-6 a.estimator_doc_link.fitted:hover {\n",
       "  /* fitted */\n",
       "  background-color: var(--sklearn-color-fitted-level-3);\n",
       "}\n",
       "</style><div id=\"sk-container-id-6\" class=\"sk-top-container\"><div class=\"sk-text-repr-fallback\"><pre>SVC()</pre><b>In a Jupyter environment, please rerun this cell to show the HTML representation or trust the notebook. <br />On GitHub, the HTML representation is unable to render, please try loading this page with nbviewer.org.</b></div><div class=\"sk-container\" hidden><div class=\"sk-item\"><div class=\"sk-estimator fitted sk-toggleable\"><input class=\"sk-toggleable__control sk-hidden--visually\" id=\"sk-estimator-id-6\" type=\"checkbox\" checked><label for=\"sk-estimator-id-6\" class=\"sk-toggleable__label fitted sk-toggleable__label-arrow fitted\">&nbsp;&nbsp;SVC<a class=\"sk-estimator-doc-link fitted\" rel=\"noreferrer\" target=\"_blank\" href=\"https://scikit-learn.org/1.5/modules/generated/sklearn.svm.SVC.html\">?<span>Documentation for SVC</span></a><span class=\"sk-estimator-doc-link fitted\">i<span>Fitted</span></span></label><div class=\"sk-toggleable__content fitted\"><pre>SVC()</pre></div> </div></div></div></div>"
      ],
      "text/plain": [
       "SVC()"
      ]
     },
     "execution_count": 165,
     "metadata": {},
     "output_type": "execute_result"
    }
   ],
   "source": [
    "svm_classifier = SVC()\n",
    "svm_classifier.fit(X_train_selected, y_train)"
   ]
  },
  {
   "cell_type": "code",
   "execution_count": 166,
   "id": "b5c7a22b-4838-4fd7-80b1-4ea7de098e30",
   "metadata": {},
   "outputs": [
    {
     "name": "stdout",
     "output_type": "stream",
     "text": [
      "Classification Accuracy: 0.40641711229946526\n"
     ]
    }
   ],
   "source": [
    "y_pred = svm_classifier.predict(X_test_selected)\n",
    "accuracy = accuracy_score(y_test, y_pred)\n",
    "print(f'Classification Accuracy: {accuracy}')"
   ]
  },
  {
   "cell_type": "code",
   "execution_count": 167,
   "id": "fefb4bbb-b40b-4015-9740-5b25ab41e3e1",
   "metadata": {},
   "outputs": [],
   "source": [
    "from sklearn.neural_network import MLPClassifier"
   ]
  },
  {
   "cell_type": "code",
   "execution_count": 168,
   "id": "2f379e85-2c00-4c20-a127-f11468a71b75",
   "metadata": {},
   "outputs": [],
   "source": [
    "mlp_classifier = MLPClassifier(hidden_layer_sizes=(8,16), max_iter=2000, random_state=42)\n",
    "mlp_classifier.fit(X_train_selected, y_train)\n",
    "\n",
    "# Predict and evaluate\n",
    "y_pred = mlp_classifier.predict(X_test_selected)\n",
    "accuracy = accuracy_score(y_test, y_pred)\n",
    "report = classification_report(y_test, y_pred)\n"
   ]
  },
  {
   "cell_type": "code",
   "execution_count": null,
   "id": "d849ec81-4aae-4998-8687-42f79159764c",
   "metadata": {},
   "outputs": [],
   "source": [
    "y_prob = mlp_classifier.predict_proba(X_test_selected)"
   ]
  },
  {
   "cell_type": "code",
   "execution_count": 169,
   "id": "0aeefcb4-a0f4-4ce4-9591-40def6339f4f",
   "metadata": {},
   "outputs": [
    {
     "name": "stdout",
     "output_type": "stream",
     "text": [
      "0.5315508021390374\n",
      "              precision    recall  f1-score   support\n",
      "\n",
      "           0       0.57      0.44      0.50      1980\n",
      "           1       0.50      0.63      0.56      1760\n",
      "\n",
      "    accuracy                           0.53      3740\n",
      "   macro avg       0.54      0.54      0.53      3740\n",
      "weighted avg       0.54      0.53      0.53      3740\n",
      "\n"
     ]
    }
   ],
   "source": [
    "print(accuracy)\n",
    "print(report)"
   ]
  },
  {
   "cell_type": "code",
   "execution_count": 177,
   "id": "d7d6d814-63d0-4f16-bd65-df57e8ca3ecf",
   "metadata": {},
   "outputs": [],
   "source": [
    "mlp_classifier = MLPClassifier(hidden_layer_sizes=(16,32), max_iter=2000, random_state=42)\n",
    "mlp_classifier.fit(X_train_selected, y_train)\n",
    "\n",
    "# Predict and evaluate\n",
    "y_pred = mlp_classifier.predict(X_test_selected)\n",
    "accuracy = accuracy_score(y_test, y_pred)\n",
    "report = classification_report(y_test, y_pred)\n"
   ]
  },
  {
   "cell_type": "code",
   "execution_count": 178,
   "id": "adfb9ac9-e1c7-4868-8887-b978d39222f5",
   "metadata": {},
   "outputs": [
    {
     "name": "stdout",
     "output_type": "stream",
     "text": [
      "              precision    recall  f1-score   support\n",
      "\n",
      "           0       0.47      0.46      0.47      1980\n",
      "           1       0.41      0.43      0.42      1760\n",
      "\n",
      "    accuracy                           0.44      3740\n",
      "   macro avg       0.44      0.44      0.44      3740\n",
      "weighted avg       0.45      0.44      0.44      3740\n",
      "\n",
      "0.4443850267379679\n"
     ]
    }
   ],
   "source": [
    "print(report)\n",
    "print(accuracy)"
   ]
  },
  {
   "cell_type": "code",
   "execution_count": 179,
   "id": "3f8e085a-14ec-4dee-8b4c-fb842383fe59",
   "metadata": {},
   "outputs": [
    {
     "name": "stderr",
     "output_type": "stream",
     "text": [
      "2024-06-16 18:39:37.950164: I external/local_xla/xla/stream_executor/cuda/cuda_executor.cc:984] could not open file to read NUMA node: /sys/bus/pci/devices/0000:01:00.0/numa_node\n",
      "Your kernel may have been built without NUMA support.\n",
      "2024-06-16 18:39:38.146170: I external/local_xla/xla/stream_executor/cuda/cuda_executor.cc:984] could not open file to read NUMA node: /sys/bus/pci/devices/0000:01:00.0/numa_node\n",
      "Your kernel may have been built without NUMA support.\n",
      "2024-06-16 18:39:38.146225: I external/local_xla/xla/stream_executor/cuda/cuda_executor.cc:984] could not open file to read NUMA node: /sys/bus/pci/devices/0000:01:00.0/numa_node\n",
      "Your kernel may have been built without NUMA support.\n",
      "2024-06-16 18:39:38.152984: I external/local_xla/xla/stream_executor/cuda/cuda_executor.cc:984] could not open file to read NUMA node: /sys/bus/pci/devices/0000:01:00.0/numa_node\n",
      "Your kernel may have been built without NUMA support.\n",
      "2024-06-16 18:39:38.153030: I external/local_xla/xla/stream_executor/cuda/cuda_executor.cc:984] could not open file to read NUMA node: /sys/bus/pci/devices/0000:01:00.0/numa_node\n",
      "Your kernel may have been built without NUMA support.\n",
      "2024-06-16 18:39:38.153077: I external/local_xla/xla/stream_executor/cuda/cuda_executor.cc:984] could not open file to read NUMA node: /sys/bus/pci/devices/0000:01:00.0/numa_node\n",
      "Your kernel may have been built without NUMA support.\n",
      "2024-06-16 18:39:38.309931: I external/local_xla/xla/stream_executor/cuda/cuda_executor.cc:984] could not open file to read NUMA node: /sys/bus/pci/devices/0000:01:00.0/numa_node\n",
      "Your kernel may have been built without NUMA support.\n",
      "2024-06-16 18:39:38.310828: I external/local_xla/xla/stream_executor/cuda/cuda_executor.cc:984] could not open file to read NUMA node: /sys/bus/pci/devices/0000:01:00.0/numa_node\n",
      "Your kernel may have been built without NUMA support.\n",
      "2024-06-16 18:39:38.310839: I tensorflow/core/common_runtime/gpu/gpu_device.cc:2019] Could not identify NUMA node of platform GPU id 0, defaulting to 0.  Your kernel may not have been built with NUMA support.\n",
      "2024-06-16 18:39:38.310960: I external/local_xla/xla/stream_executor/cuda/cuda_executor.cc:984] could not open file to read NUMA node: /sys/bus/pci/devices/0000:01:00.0/numa_node\n",
      "Your kernel may have been built without NUMA support.\n",
      "2024-06-16 18:39:38.311367: I tensorflow/core/common_runtime/gpu/gpu_device.cc:1928] Created device /job:localhost/replica:0/task:0/device:GPU:0 with 9706 MB memory:  -> device: 0, name: NVIDIA GeForce RTX 3060, pci bus id: 0000:01:00.0, compute capability: 8.6\n"
     ]
    }
   ],
   "source": [
    "model = Sequential([\n",
    "    Dense(128, activation='relu', input_shape=(X_train_np.shape[1],)),\n",
    "    Dense(64, activation='relu'),\n",
    "    Dense(32, activation='relu'),\n",
    "    Dense(1, activation='sigmoid')\n",
    "])\n"
   ]
  },
  {
   "cell_type": "code",
   "execution_count": 180,
   "id": "8365c802-9a4e-460c-8bb6-4afaca106ffe",
   "metadata": {},
   "outputs": [
    {
     "ename": "AttributeError",
     "evalue": "module 'tensorflow.python.distribute.input_lib' has no attribute 'DistributedDatasetInterface'",
     "output_type": "error",
     "traceback": [
      "\u001b[0;31m---------------------------------------------------------------------------\u001b[0m",
      "\u001b[0;31mAttributeError\u001b[0m                            Traceback (most recent call last)",
      "Cell \u001b[0;32mIn[180], line 4\u001b[0m\n\u001b[1;32m      1\u001b[0m model\u001b[38;5;241m.\u001b[39mcompile(optimizer\u001b[38;5;241m=\u001b[39m\u001b[38;5;124m'\u001b[39m\u001b[38;5;124madam\u001b[39m\u001b[38;5;124m'\u001b[39m, loss\u001b[38;5;241m=\u001b[39m\u001b[38;5;124m'\u001b[39m\u001b[38;5;124mbinary_crossentropy\u001b[39m\u001b[38;5;124m'\u001b[39m, metrics\u001b[38;5;241m=\u001b[39m[\u001b[38;5;124m'\u001b[39m\u001b[38;5;124maccuracy\u001b[39m\u001b[38;5;124m'\u001b[39m])\n\u001b[1;32m      3\u001b[0m \u001b[38;5;66;03m# Train the model\u001b[39;00m\n\u001b[0;32m----> 4\u001b[0m \u001b[43mmodel\u001b[49m\u001b[38;5;241;43m.\u001b[39;49m\u001b[43mfit\u001b[49m\u001b[43m(\u001b[49m\u001b[43mX_train\u001b[49m\u001b[43m,\u001b[49m\u001b[43m \u001b[49m\u001b[43my_train\u001b[49m\u001b[43m,\u001b[49m\u001b[43m \u001b[49m\u001b[43mepochs\u001b[49m\u001b[38;5;241;43m=\u001b[39;49m\u001b[38;5;241;43m10\u001b[39;49m\u001b[43m,\u001b[49m\u001b[43m \u001b[49m\u001b[43mbatch_size\u001b[49m\u001b[38;5;241;43m=\u001b[39;49m\u001b[38;5;241;43m8\u001b[39;49m\u001b[43m)\u001b[49m\n",
      "File \u001b[0;32m~/micromamba/envs/tf-gpu/lib/python3.12/site-packages/tensorflow/python/keras/engine/training.py:1137\u001b[0m, in \u001b[0;36mModel.fit\u001b[0;34m(self, x, y, batch_size, epochs, verbose, callbacks, validation_split, validation_data, shuffle, class_weight, sample_weight, initial_epoch, steps_per_epoch, validation_steps, validation_batch_size, validation_freq, max_queue_size, workers, use_multiprocessing)\u001b[0m\n\u001b[1;32m   1131\u001b[0m   \u001b[38;5;28mself\u001b[39m\u001b[38;5;241m.\u001b[39m_cluster_coordinator \u001b[38;5;241m=\u001b[39m cluster_coordinator\u001b[38;5;241m.\u001b[39mClusterCoordinator(\n\u001b[1;32m   1132\u001b[0m       \u001b[38;5;28mself\u001b[39m\u001b[38;5;241m.\u001b[39mdistribute_strategy)\n\u001b[1;32m   1134\u001b[0m \u001b[38;5;28;01mwith\u001b[39;00m \u001b[38;5;28mself\u001b[39m\u001b[38;5;241m.\u001b[39mdistribute_strategy\u001b[38;5;241m.\u001b[39mscope(), \\\n\u001b[1;32m   1135\u001b[0m      training_utils\u001b[38;5;241m.\u001b[39mRespectCompiledTrainableState(\u001b[38;5;28mself\u001b[39m):\n\u001b[1;32m   1136\u001b[0m   \u001b[38;5;66;03m# Creates a `tf.data.Dataset` and handles batch and epoch iteration.\u001b[39;00m\n\u001b[0;32m-> 1137\u001b[0m   data_handler \u001b[38;5;241m=\u001b[39m \u001b[43mdata_adapter\u001b[49m\u001b[38;5;241;43m.\u001b[39;49m\u001b[43mget_data_handler\u001b[49m\u001b[43m(\u001b[49m\n\u001b[1;32m   1138\u001b[0m \u001b[43m      \u001b[49m\u001b[43mx\u001b[49m\u001b[38;5;241;43m=\u001b[39;49m\u001b[43mx\u001b[49m\u001b[43m,\u001b[49m\n\u001b[1;32m   1139\u001b[0m \u001b[43m      \u001b[49m\u001b[43my\u001b[49m\u001b[38;5;241;43m=\u001b[39;49m\u001b[43my\u001b[49m\u001b[43m,\u001b[49m\n\u001b[1;32m   1140\u001b[0m \u001b[43m      \u001b[49m\u001b[43msample_weight\u001b[49m\u001b[38;5;241;43m=\u001b[39;49m\u001b[43msample_weight\u001b[49m\u001b[43m,\u001b[49m\n\u001b[1;32m   1141\u001b[0m \u001b[43m      \u001b[49m\u001b[43mbatch_size\u001b[49m\u001b[38;5;241;43m=\u001b[39;49m\u001b[43mbatch_size\u001b[49m\u001b[43m,\u001b[49m\n\u001b[1;32m   1142\u001b[0m \u001b[43m      \u001b[49m\u001b[43msteps_per_epoch\u001b[49m\u001b[38;5;241;43m=\u001b[39;49m\u001b[43msteps_per_epoch\u001b[49m\u001b[43m,\u001b[49m\n\u001b[1;32m   1143\u001b[0m \u001b[43m      \u001b[49m\u001b[43minitial_epoch\u001b[49m\u001b[38;5;241;43m=\u001b[39;49m\u001b[43minitial_epoch\u001b[49m\u001b[43m,\u001b[49m\n\u001b[1;32m   1144\u001b[0m \u001b[43m      \u001b[49m\u001b[43mepochs\u001b[49m\u001b[38;5;241;43m=\u001b[39;49m\u001b[43mepochs\u001b[49m\u001b[43m,\u001b[49m\n\u001b[1;32m   1145\u001b[0m \u001b[43m      \u001b[49m\u001b[43mshuffle\u001b[49m\u001b[38;5;241;43m=\u001b[39;49m\u001b[43mshuffle\u001b[49m\u001b[43m,\u001b[49m\n\u001b[1;32m   1146\u001b[0m \u001b[43m      \u001b[49m\u001b[43mclass_weight\u001b[49m\u001b[38;5;241;43m=\u001b[39;49m\u001b[43mclass_weight\u001b[49m\u001b[43m,\u001b[49m\n\u001b[1;32m   1147\u001b[0m \u001b[43m      \u001b[49m\u001b[43mmax_queue_size\u001b[49m\u001b[38;5;241;43m=\u001b[39;49m\u001b[43mmax_queue_size\u001b[49m\u001b[43m,\u001b[49m\n\u001b[1;32m   1148\u001b[0m \u001b[43m      \u001b[49m\u001b[43mworkers\u001b[49m\u001b[38;5;241;43m=\u001b[39;49m\u001b[43mworkers\u001b[49m\u001b[43m,\u001b[49m\n\u001b[1;32m   1149\u001b[0m \u001b[43m      \u001b[49m\u001b[43muse_multiprocessing\u001b[49m\u001b[38;5;241;43m=\u001b[39;49m\u001b[43muse_multiprocessing\u001b[49m\u001b[43m,\u001b[49m\n\u001b[1;32m   1150\u001b[0m \u001b[43m      \u001b[49m\u001b[43mmodel\u001b[49m\u001b[38;5;241;43m=\u001b[39;49m\u001b[38;5;28;43mself\u001b[39;49m\u001b[43m,\u001b[49m\n\u001b[1;32m   1151\u001b[0m \u001b[43m      \u001b[49m\u001b[43msteps_per_execution\u001b[49m\u001b[38;5;241;43m=\u001b[39;49m\u001b[38;5;28;43mself\u001b[39;49m\u001b[38;5;241;43m.\u001b[39;49m\u001b[43m_steps_per_execution\u001b[49m\u001b[43m)\u001b[49m\n\u001b[1;32m   1153\u001b[0m   \u001b[38;5;66;03m# Container that configures and calls `tf.keras.Callback`s.\u001b[39;00m\n\u001b[1;32m   1154\u001b[0m   \u001b[38;5;28;01mif\u001b[39;00m \u001b[38;5;129;01mnot\u001b[39;00m \u001b[38;5;28misinstance\u001b[39m(callbacks, callbacks_module\u001b[38;5;241m.\u001b[39mCallbackList):\n",
      "File \u001b[0;32m~/micromamba/envs/tf-gpu/lib/python3.12/site-packages/tensorflow/python/keras/engine/data_adapter.py:1397\u001b[0m, in \u001b[0;36mget_data_handler\u001b[0;34m(*args, **kwargs)\u001b[0m\n\u001b[1;32m   1395\u001b[0m \u001b[38;5;28;01mif\u001b[39;00m \u001b[38;5;28mgetattr\u001b[39m(kwargs[\u001b[38;5;124m\"\u001b[39m\u001b[38;5;124mmodel\u001b[39m\u001b[38;5;124m\"\u001b[39m], \u001b[38;5;124m\"\u001b[39m\u001b[38;5;124m_cluster_coordinator\u001b[39m\u001b[38;5;124m\"\u001b[39m, \u001b[38;5;28;01mNone\u001b[39;00m):\n\u001b[1;32m   1396\u001b[0m   \u001b[38;5;28;01mreturn\u001b[39;00m _ClusterCoordinatorDataHandler(\u001b[38;5;241m*\u001b[39margs, \u001b[38;5;241m*\u001b[39m\u001b[38;5;241m*\u001b[39mkwargs)\n\u001b[0;32m-> 1397\u001b[0m \u001b[38;5;28;01mreturn\u001b[39;00m \u001b[43mDataHandler\u001b[49m\u001b[43m(\u001b[49m\u001b[38;5;241;43m*\u001b[39;49m\u001b[43margs\u001b[49m\u001b[43m,\u001b[49m\u001b[43m \u001b[49m\u001b[38;5;241;43m*\u001b[39;49m\u001b[38;5;241;43m*\u001b[39;49m\u001b[43mkwargs\u001b[49m\u001b[43m)\u001b[49m\n",
      "File \u001b[0;32m~/micromamba/envs/tf-gpu/lib/python3.12/site-packages/tensorflow/python/keras/engine/data_adapter.py:1151\u001b[0m, in \u001b[0;36mDataHandler.__init__\u001b[0;34m(self, x, y, sample_weight, batch_size, steps_per_epoch, initial_epoch, epochs, shuffle, class_weight, max_queue_size, workers, use_multiprocessing, model, steps_per_execution, distribute)\u001b[0m\n\u001b[1;32m   1148\u001b[0m   \u001b[38;5;28mself\u001b[39m\u001b[38;5;241m.\u001b[39m_steps_per_execution \u001b[38;5;241m=\u001b[39m steps_per_execution\n\u001b[1;32m   1149\u001b[0m   \u001b[38;5;28mself\u001b[39m\u001b[38;5;241m.\u001b[39m_steps_per_execution_value \u001b[38;5;241m=\u001b[39m steps_per_execution\u001b[38;5;241m.\u001b[39mnumpy()\u001b[38;5;241m.\u001b[39mitem()\n\u001b[0;32m-> 1151\u001b[0m adapter_cls \u001b[38;5;241m=\u001b[39m \u001b[43mselect_data_adapter\u001b[49m\u001b[43m(\u001b[49m\u001b[43mx\u001b[49m\u001b[43m,\u001b[49m\u001b[43m \u001b[49m\u001b[43my\u001b[49m\u001b[43m)\u001b[49m\n\u001b[1;32m   1152\u001b[0m \u001b[38;5;28mself\u001b[39m\u001b[38;5;241m.\u001b[39m_adapter \u001b[38;5;241m=\u001b[39m adapter_cls(\n\u001b[1;32m   1153\u001b[0m     x,\n\u001b[1;32m   1154\u001b[0m     y,\n\u001b[0;32m   (...)\u001b[0m\n\u001b[1;32m   1163\u001b[0m     distribution_strategy\u001b[38;5;241m=\u001b[39mdistribute_lib\u001b[38;5;241m.\u001b[39mget_strategy(),\n\u001b[1;32m   1164\u001b[0m     model\u001b[38;5;241m=\u001b[39mmodel)\n\u001b[1;32m   1166\u001b[0m strategy \u001b[38;5;241m=\u001b[39m distribute_lib\u001b[38;5;241m.\u001b[39mget_strategy()\n",
      "File \u001b[0;32m~/micromamba/envs/tf-gpu/lib/python3.12/site-packages/tensorflow/python/keras/engine/data_adapter.py:987\u001b[0m, in \u001b[0;36mselect_data_adapter\u001b[0;34m(x, y)\u001b[0m\n\u001b[1;32m    985\u001b[0m \u001b[38;5;28;01mdef\u001b[39;00m \u001b[38;5;21mselect_data_adapter\u001b[39m(x, y):\n\u001b[1;32m    986\u001b[0m \u001b[38;5;250m  \u001b[39m\u001b[38;5;124;03m\"\"\"Selects a data adapter than can handle a given x and y.\"\"\"\u001b[39;00m\n\u001b[0;32m--> 987\u001b[0m   adapter_cls \u001b[38;5;241m=\u001b[39m [\u001b[38;5;28mcls\u001b[39m \u001b[38;5;28;01mfor\u001b[39;00m \u001b[38;5;28mcls\u001b[39m \u001b[38;5;129;01min\u001b[39;00m ALL_ADAPTER_CLS \u001b[38;5;28;01mif\u001b[39;00m \u001b[38;5;28;43mcls\u001b[39;49m\u001b[38;5;241;43m.\u001b[39;49m\u001b[43mcan_handle\u001b[49m\u001b[43m(\u001b[49m\u001b[43mx\u001b[49m\u001b[43m,\u001b[49m\u001b[43m \u001b[49m\u001b[43my\u001b[49m\u001b[43m)\u001b[49m]\n\u001b[1;32m    988\u001b[0m   \u001b[38;5;28;01mif\u001b[39;00m \u001b[38;5;129;01mnot\u001b[39;00m adapter_cls:\n\u001b[1;32m    989\u001b[0m     \u001b[38;5;66;03m# TODO(scottzhu): This should be a less implementation-specific error.\u001b[39;00m\n\u001b[1;32m    990\u001b[0m     \u001b[38;5;28;01mraise\u001b[39;00m \u001b[38;5;167;01mValueError\u001b[39;00m(\n\u001b[1;32m    991\u001b[0m         \u001b[38;5;124m\"\u001b[39m\u001b[38;5;124mFailed to find data adapter that can handle \u001b[39m\u001b[38;5;124m\"\u001b[39m\n\u001b[1;32m    992\u001b[0m         \u001b[38;5;124m\"\u001b[39m\u001b[38;5;124minput: \u001b[39m\u001b[38;5;132;01m{}\u001b[39;00m\u001b[38;5;124m, \u001b[39m\u001b[38;5;132;01m{}\u001b[39;00m\u001b[38;5;124m\"\u001b[39m\u001b[38;5;241m.\u001b[39mformat(\n\u001b[1;32m    993\u001b[0m             _type_name(x), _type_name(y)))\n",
      "File \u001b[0;32m~/micromamba/envs/tf-gpu/lib/python3.12/site-packages/tensorflow/python/keras/engine/data_adapter.py:706\u001b[0m, in \u001b[0;36mDatasetAdapter.can_handle\u001b[0;34m(x, y)\u001b[0m\n\u001b[1;32m    703\u001b[0m \u001b[38;5;129m@staticmethod\u001b[39m\n\u001b[1;32m    704\u001b[0m \u001b[38;5;28;01mdef\u001b[39;00m \u001b[38;5;21mcan_handle\u001b[39m(x, y\u001b[38;5;241m=\u001b[39m\u001b[38;5;28;01mNone\u001b[39;00m):\n\u001b[1;32m    705\u001b[0m   \u001b[38;5;28;01mreturn\u001b[39;00m (\u001b[38;5;28misinstance\u001b[39m(x, (data_types\u001b[38;5;241m.\u001b[39mDatasetV1, data_types\u001b[38;5;241m.\u001b[39mDatasetV2)) \u001b[38;5;129;01mor\u001b[39;00m\n\u001b[0;32m--> 706\u001b[0m           \u001b[43m_is_distributed_dataset\u001b[49m\u001b[43m(\u001b[49m\u001b[43mx\u001b[49m\u001b[43m)\u001b[49m)\n",
      "File \u001b[0;32m~/micromamba/envs/tf-gpu/lib/python3.12/site-packages/tensorflow/python/keras/engine/data_adapter.py:1696\u001b[0m, in \u001b[0;36m_is_distributed_dataset\u001b[0;34m(ds)\u001b[0m\n\u001b[1;32m   1695\u001b[0m \u001b[38;5;28;01mdef\u001b[39;00m \u001b[38;5;21m_is_distributed_dataset\u001b[39m(ds):\n\u001b[0;32m-> 1696\u001b[0m   \u001b[38;5;28;01mreturn\u001b[39;00m \u001b[38;5;28misinstance\u001b[39m(ds, \u001b[43minput_lib\u001b[49m\u001b[38;5;241;43m.\u001b[39;49m\u001b[43mDistributedDatasetInterface\u001b[49m)\n",
      "\u001b[0;31mAttributeError\u001b[0m: module 'tensorflow.python.distribute.input_lib' has no attribute 'DistributedDatasetInterface'"
     ]
    }
   ],
   "source": [
    "model.compile(optimizer='adam', loss='binary_crossentropy', metrics=['accuracy'])\n",
    "\n",
    "# Train the model\n",
    "model.fit(X_train, y_train, epochs=10, batch_size=8)"
   ]
  },
  {
   "cell_type": "markdown",
   "id": "98851399-6319-420b-ab9c-4ce8c27195dc",
   "metadata": {},
   "source": [
    "### Vote classification of whole readings "
   ]
  },
  {
   "cell_type": "code",
   "execution_count": null,
   "id": "2bfb1d6b-75a6-4e39-a8e0-158963495ba7",
   "metadata": {},
   "outputs": [],
   "source": [
    "def get_majority_votes_on_test_set(arr):\n",
    "    \n",
    "    # Ensure the array length is divisible\n",
    "    by 110\n",
    "    if len(arr) % 110 != 0:\n",
    "        raise ValueError(\"Array length must be divisible by 110\")\n",
    "\n",
    "    # Calculate the size of the new array\n",
    "    new_size = len(arr) // 110\n",
    "    new_arr = []\n",
    "\n",
    "    # Loop through the original array in chunks of 110 elements\n",
    "    for i in range(new_size):\n",
    "        chunk = arr[i*110:(i+1)*110]\n",
    "        # Count the number of 1s and 0s in the chunk\n",
    "        count_1s = sum(chunk)\n",
    "        count_0s = 110 - count_1s  # Since the chunk size is always 110\n",
    "\n",
    "        # Append 1 if there are more 1s, otherwise append 0\n",
    "        if count_1s > count_0s:\n",
    "            new_arr.append(1)\n",
    "        else:\n",
    "            new_arr.append(0)\n",
    "\n",
    "    return new_arr\n"
   ]
  },
  {
   "cell_type": "code",
   "execution_count": null,
   "id": "5e7aa6ee-79d3-4f83-b915-8ab91cfb8fd7",
   "metadata": {},
   "outputs": [],
   "source": [
    "def get_true_classes(testing_dir):\n",
    "    y_true = []\n",
    "    test_subject_recordings = find_csv_files(testing_dir)\n",
    "    for csv in test_subject_recordings: \n",
    "        index = csv.rfind(\"/\")\n",
    "        subject_name = csv[index+1:]\n",
    "        subject_index = subject_name.find(\"_\")\n",
    "        subject_name = subject_name[:subject_index]\n",
    "        if df_dict[subject_name] == \"HEALTHY\":\n",
    "            y_true.append(1)\n",
    "        elif df_dict[subject_name] == \"ADHD\":\n",
    "             y_true.append(0)\n",
    "    return y_true    "
   ]
  },
  {
   "cell_type": "code",
   "execution_count": null,
   "id": "c3ef6b36-48bd-49c8-849b-0f71a7a43402",
   "metadata": {},
   "outputs": [],
   "source": [
    "y_true = get_true_classes(testing_path)"
   ]
  },
  {
   "cell_type": "code",
   "execution_count": null,
   "id": "0008f8a3-03d9-4988-a2e1-4489c50cf3b6",
   "metadata": {},
   "outputs": [],
   "source": []
  },
  {
   "cell_type": "code",
   "execution_count": null,
   "id": "c74e6897-ef9c-4f08-a14e-d9c00c5cd944",
   "metadata": {},
   "outputs": [],
   "source": [
    "adaboost = AdaBoostClassifier(n_estimators = 60, algorithm=\"SAMME\")\n",
    "adaboost.fit(X_train_selected,y_train)"
   ]
  },
  {
   "cell_type": "code",
   "execution_count": null,
   "id": "8d0a8571-5fb6-440c-a712-8c784e86a205",
   "metadata": {},
   "outputs": [],
   "source": [
    "predictions = adaboost.predict(X_test_selected)"
   ]
  },
  {
   "cell_type": "code",
   "execution_count": null,
   "id": "0879ada6-be40-4a1d-a459-535781eb5e98",
   "metadata": {},
   "outputs": [],
   "source": [
    "print(classification_report(y_test,predictions))"
   ]
  },
  {
   "cell_type": "code",
   "execution_count": null,
   "id": "efd1b632-f837-4800-8b24-dfd793b78306",
   "metadata": {},
   "outputs": [],
   "source": [
    "print(adaboost.feature_importances_)"
   ]
  },
  {
   "cell_type": "code",
   "execution_count": null,
   "id": "308b6ebe-9cfa-4cb5-b7b3-8ccfc6f5d769",
   "metadata": {},
   "outputs": [],
   "source": [
    "top_25_indices = np.argsort(adaboost.feature_importances_)[-25:][::-1]\n",
    "\n",
    "print(top_25_indices)"
   ]
  },
  {
   "cell_type": "code",
   "execution_count": null,
   "id": "115f3184-e0c2-4f7c-80b6-e42350cd5809",
   "metadata": {},
   "outputs": [],
   "source": [
    "X_train_selected_2 = X_train_selected[:, top_25_indices]\n",
    "X_test_selected_2 = X_test_selected[:,top_25_indices]\n",
    "X_val_selected_2 = X_val_selected[:, top_25_indices]"
   ]
  },
  {
   "cell_type": "code",
   "execution_count": null,
   "id": "4afd9d37-efae-4afc-9b0c-125f5019d43d",
   "metadata": {},
   "outputs": [],
   "source": [
    "svm_classifier = SVC(kernel='rbf')\n",
    "svm_classifier.fit(X_train_selected_2, y_train)\n",
    "y_pred = svm_classifier.predict(X_test_selected_2)\n",
    "accuracy = accuracy_score(y_test, y_pred)\n",
    "print(f'Classification Accuracy: {accuracy}')"
   ]
  },
  {
   "cell_type": "code",
   "execution_count": null,
   "id": "47dc00e3-4640-4b77-8ced-99dec960ac49",
   "metadata": {},
   "outputs": [],
   "source": [
    "mlp_classifier = MLPClassifier(hidden_layer_sizes=(), max_iter=2000, random_state=42)\n",
    "mlp_classifier.fit(X_train_selected_2, y_train)\n",
    "\n",
    "# Predict and evaluate\n",
    "y_pred = mlp_classifier.predict(X_test_selected_2)\n",
    "accuracy = accuracy_score(y_test, y_pred)\n",
    "report = classification_report(y_test, y_pred)"
   ]
  },
  {
   "cell_type": "code",
   "execution_count": null,
   "id": "2036e73e-164e-44b2-b2d7-f442ba294552",
   "metadata": {},
   "outputs": [],
   "source": [
    "print(accuracy)\n",
    "print(report)"
   ]
  },
  {
   "cell_type": "code",
   "execution_count": null,
   "id": "4fd4e928-46ad-47be-9ef0-6bbc6ecd2796",
   "metadata": {},
   "outputs": [],
   "source": [
    "print(len(important_feature_indices))"
   ]
  },
  {
   "cell_type": "code",
   "execution_count": null,
   "id": "08db4b09-60f6-4715-9c93-e8fd3a94cd74",
   "metadata": {},
   "outputs": [],
   "source": [
    "from sklearn.ensemble import RandomForestClassifier"
   ]
  },
  {
   "cell_type": "code",
   "execution_count": null,
   "id": "19cc312c-3336-4731-87de-2e6be70d2ecb",
   "metadata": {},
   "outputs": [],
   "source": [
    "rf = RandomForestClassifier(\n",
    "    n_estimators = 100,\n",
    "    min_samples_split=20,\n",
    "    min_samples_leaf=20\n",
    ")"
   ]
  },
  {
   "cell_type": "code",
   "execution_count": null,
   "id": "92a6bf95-66ed-4532-9217-8279892a46fe",
   "metadata": {},
   "outputs": [],
   "source": [
    "rf.fit(X_train_selected,y_train)"
   ]
  },
  {
   "cell_type": "code",
   "execution_count": null,
   "id": "7c10d809-d9e1-4ae0-ac5f-4c3b66f23108",
   "metadata": {},
   "outputs": [],
   "source": [
    "predictions_rf = rf.predict(X_test_selected)\n",
    "print(classification_report(y_test,predictions_rf))"
   ]
  },
  {
   "cell_type": "markdown",
   "id": "2e6fd7a4-47f8-485c-9385-1a664ff05343",
   "metadata": {},
   "source": [
    "# Спектрограми"
   ]
  },
  {
   "cell_type": "code",
   "execution_count": null,
   "id": "e2b29f49-fee5-4846-91fb-f1f3680f238d",
   "metadata": {},
   "outputs": [],
   "source": [
    "from scipy import signal"
   ]
  },
  {
   "cell_type": "code",
   "execution_count": null,
   "id": "81738238-c884-4e40-b41d-8c477bc1449e",
   "metadata": {},
   "outputs": [],
   "source": [
    "training_filepaths = [os.path.join(training_segmented_path,file) for file in os.listdir(training_segmented_path)]\n",
    "validation_filepaths = [os.path.join(validation_segmented_path,file) for file in os.listdir(validation_segmented_path)]\n",
    "testing_filepaths = [os.path.join(testing_segmented_path,file) for file in os.listdir(testing_segmented_path)]"
   ]
  },
  {
   "cell_type": "code",
   "execution_count": null,
   "id": "3d4d6220-2d72-430e-b612-a23d8a1af5ad",
   "metadata": {},
   "outputs": [],
   "source": [
    "X_train_spectrograms = []\n",
    "X_test_spectrograms = [] \n",
    "X_val_spectrograms = [] \n",
    "y_train_spectrograms = []\n",
    "y_test_spectrograms = [] \n",
    "y_val_spectrograms = [] "
   ]
  },
  {
   "cell_type": "code",
   "execution_count": null,
   "id": "435a3b8a-a313-445b-8b60-593dd1ba0e1e",
   "metadata": {},
   "outputs": [],
   "source": [
    "fs = 500  # Sampling frequency\n",
    "nperseg = 256  # Length of each segment\n",
    "noverlap = 128  # Overlap between segments\n",
    "\n",
    "def generate_spectrograms(training_filepaths, y_train_spectrograms):\n",
    "    spectrogram_list = []\n",
    "    for filepath in tqdm(training_filepaths):\n",
    "        # Load the EEG data from CSV file\n",
    "        eeg_data = pd.read_csv(filepath)\n",
    "        \n",
    "        index = filepath.rfind(\"/\")\n",
    "        subject_name = filepath[index+1:]\n",
    "        subject_index = subject_name.find(\"_\")\n",
    "        subject_name = subject_name[:subject_index]\n",
    "   \n",
    "\n",
    "        if df_dict[subject_name] == \"HEALTHY\":\n",
    "            y_train_spectrograms.append(1)\n",
    "        elif df_dict[subject_name] == \"ADHD\":\n",
    "             y_train_spectrograms.append(0)\n",
    "        # Extract the data for each channel\n",
    "        channels_data = {}\n",
    "        for channel_name in eeg_data.columns:\n",
    "            channels_data[channel_name] = eeg_data[channel_name].values\n",
    "\n",
    "        # Create spectrogram for each channel\n",
    "        spectrograms = {}\n",
    "        for channel_name, channel_values in channels_data.items():\n",
    "            f, t, Sxx = signal.spectrogram(channel_values, fs=fs, nperseg=nperseg, noverlap=noverlap)\n",
    "            spectrograms[channel_name] = Sxx.T  # Transpose the spectrogram matrix\n",
    "\n",
    "        spectrogram_list.append(spectrograms)\n",
    "\n",
    "    return spectrogram_list, y_train"
   ]
  },
  {
   "cell_type": "code",
   "execution_count": null,
   "id": "1afb92a2-315f-4ab1-aaf6-a2ff8f32d8ab",
   "metadata": {},
   "outputs": [],
   "source": [
    "\n",
    "X_train_spectrograms, y_train_spectrograms = generate_spectrograms(training_filepaths,y_train_spectrograms)"
   ]
  },
  {
   "cell_type": "code",
   "execution_count": null,
   "id": "5197985d-b39a-4a33-ad9c-1fb7f6c13063",
   "metadata": {},
   "outputs": [],
   "source": [
    "X_test_spectrograms, y_test_spectrograms = generate_spectrograms(testing_filepaths, y_test_spectrograms)"
   ]
  },
  {
   "cell_type": "code",
   "execution_count": null,
   "id": "9de17499-deb4-4a0d-887a-8201da042d84",
   "metadata": {},
   "outputs": [],
   "source": [
    "X_val_spectrograms, y_val_spectrograms = generate_spectrograms(validation_filepaths, y_val_spectrograms)"
   ]
  },
  {
   "cell_type": "code",
   "execution_count": null,
   "id": "5c2a8662-4fa8-43ac-91d7-c4ba840d4fd4",
   "metadata": {},
   "outputs": [],
   "source": []
  }
 ],
 "metadata": {
  "kernelspec": {
   "display_name": "Python (tf-gpu)",
   "language": "python",
   "name": "tf-gpu"
  },
  "language_info": {
   "codemirror_mode": {
    "name": "ipython",
    "version": 3
   },
   "file_extension": ".py",
   "mimetype": "text/x-python",
   "name": "python",
   "nbconvert_exporter": "python",
   "pygments_lexer": "ipython3",
   "version": "3.12.3"
  }
 },
 "nbformat": 4,
 "nbformat_minor": 5
}
